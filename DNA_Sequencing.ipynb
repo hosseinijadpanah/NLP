{
  "nbformat": 4,
  "nbformat_minor": 0,
  "metadata": {
    "colab": {
      "provenance": []
    },
    "kernelspec": {
      "name": "python3",
      "display_name": "Python 3"
    },
    "language_info": {
      "name": "python"
    }
  },
  "cells": [
    {
      "cell_type": "markdown",
      "source": [
        "# DNA Sequencing\n",
        "\n"
      ],
      "metadata": {
        "id": "DZVhJMn3TMND"
      }
    },
    {
      "cell_type": "code",
      "source": [
        "import numpy as np\n",
        "import pandas as pd\n",
        "import matplotlib.pyplot as plt\n"
      ],
      "metadata": {
        "id": "L9Fuux_hTM4z"
      },
      "execution_count": 1,
      "outputs": []
    },
    {
      "cell_type": "code",
      "source": [
        "!git clone http://github.com/rezashokrzad/DNA-Sequencing"
      ],
      "metadata": {
        "colab": {
          "base_uri": "https://localhost:8080/"
        },
        "id": "ws0R528JTNEz",
        "outputId": "77fc332e-14b5-49c6-fa50-2afa45ecd4f8"
      },
      "execution_count": 4,
      "outputs": [
        {
          "output_type": "stream",
          "name": "stdout",
          "text": [
            "Cloning into 'DNA-Sequencing'...\n",
            "warning: redirecting to https://github.com/rezashokrzad/DNA-Sequencing/\n",
            "remote: Enumerating objects: 16, done.\u001b[K\n",
            "remote: Counting objects: 100% (16/16), done.\u001b[K\n",
            "remote: Compressing objects: 100% (13/13), done.\u001b[K\n",
            "remote: Total 16 (delta 4), reused 0 (delta 0), pack-reused 0\u001b[K\n",
            "Receiving objects: 100% (16/16), 1.01 MiB | 2.29 MiB/s, done.\n",
            "Resolving deltas: 100% (4/4), done.\n"
          ]
        }
      ]
    },
    {
      "cell_type": "code",
      "source": [
        "human_data = pd.read_table('DNA-Sequencing/human_data.txt')\n",
        "human_data.head()"
      ],
      "metadata": {
        "colab": {
          "base_uri": "https://localhost:8080/",
          "height": 206
        },
        "id": "xGh0ygi7TNIM",
        "outputId": "f705560d-7dc0-483a-ec0f-c766312963f0"
      },
      "execution_count": 5,
      "outputs": [
        {
          "output_type": "execute_result",
          "data": {
            "text/plain": [
              "                                            sequence  class\n",
              "0  ATGCCCCAACTAAATACTACCGTATGGCCCACCATAATTACCCCCA...      4\n",
              "1  ATGAACGAAAATCTGTTCGCTTCATTCATTGCCCCCACAATCCTAG...      4\n",
              "2  ATGTGTGGCATTTGGGCGCTGTTTGGCAGTGATGATTGCCTTTCTG...      3\n",
              "3  ATGTGTGGCATTTGGGCGCTGTTTGGCAGTGATGATTGCCTTTCTG...      3\n",
              "4  ATGCAACAGCATTTTGAATTTGAATACCAGACCAAAGTGGATGGTG...      3"
            ],
            "text/html": [
              "\n",
              "  <div id=\"df-72fe6825-fbcc-423a-b4b6-2e36b416f04b\" class=\"colab-df-container\">\n",
              "    <div>\n",
              "<style scoped>\n",
              "    .dataframe tbody tr th:only-of-type {\n",
              "        vertical-align: middle;\n",
              "    }\n",
              "\n",
              "    .dataframe tbody tr th {\n",
              "        vertical-align: top;\n",
              "    }\n",
              "\n",
              "    .dataframe thead th {\n",
              "        text-align: right;\n",
              "    }\n",
              "</style>\n",
              "<table border=\"1\" class=\"dataframe\">\n",
              "  <thead>\n",
              "    <tr style=\"text-align: right;\">\n",
              "      <th></th>\n",
              "      <th>sequence</th>\n",
              "      <th>class</th>\n",
              "    </tr>\n",
              "  </thead>\n",
              "  <tbody>\n",
              "    <tr>\n",
              "      <th>0</th>\n",
              "      <td>ATGCCCCAACTAAATACTACCGTATGGCCCACCATAATTACCCCCA...</td>\n",
              "      <td>4</td>\n",
              "    </tr>\n",
              "    <tr>\n",
              "      <th>1</th>\n",
              "      <td>ATGAACGAAAATCTGTTCGCTTCATTCATTGCCCCCACAATCCTAG...</td>\n",
              "      <td>4</td>\n",
              "    </tr>\n",
              "    <tr>\n",
              "      <th>2</th>\n",
              "      <td>ATGTGTGGCATTTGGGCGCTGTTTGGCAGTGATGATTGCCTTTCTG...</td>\n",
              "      <td>3</td>\n",
              "    </tr>\n",
              "    <tr>\n",
              "      <th>3</th>\n",
              "      <td>ATGTGTGGCATTTGGGCGCTGTTTGGCAGTGATGATTGCCTTTCTG...</td>\n",
              "      <td>3</td>\n",
              "    </tr>\n",
              "    <tr>\n",
              "      <th>4</th>\n",
              "      <td>ATGCAACAGCATTTTGAATTTGAATACCAGACCAAAGTGGATGGTG...</td>\n",
              "      <td>3</td>\n",
              "    </tr>\n",
              "  </tbody>\n",
              "</table>\n",
              "</div>\n",
              "    <div class=\"colab-df-buttons\">\n",
              "\n",
              "  <div class=\"colab-df-container\">\n",
              "    <button class=\"colab-df-convert\" onclick=\"convertToInteractive('df-72fe6825-fbcc-423a-b4b6-2e36b416f04b')\"\n",
              "            title=\"Convert this dataframe to an interactive table.\"\n",
              "            style=\"display:none;\">\n",
              "\n",
              "  <svg xmlns=\"http://www.w3.org/2000/svg\" height=\"24px\" viewBox=\"0 -960 960 960\">\n",
              "    <path d=\"M120-120v-720h720v720H120Zm60-500h600v-160H180v160Zm220 220h160v-160H400v160Zm0 220h160v-160H400v160ZM180-400h160v-160H180v160Zm440 0h160v-160H620v160ZM180-180h160v-160H180v160Zm440 0h160v-160H620v160Z\"/>\n",
              "  </svg>\n",
              "    </button>\n",
              "\n",
              "  <style>\n",
              "    .colab-df-container {\n",
              "      display:flex;\n",
              "      gap: 12px;\n",
              "    }\n",
              "\n",
              "    .colab-df-convert {\n",
              "      background-color: #E8F0FE;\n",
              "      border: none;\n",
              "      border-radius: 50%;\n",
              "      cursor: pointer;\n",
              "      display: none;\n",
              "      fill: #1967D2;\n",
              "      height: 32px;\n",
              "      padding: 0 0 0 0;\n",
              "      width: 32px;\n",
              "    }\n",
              "\n",
              "    .colab-df-convert:hover {\n",
              "      background-color: #E2EBFA;\n",
              "      box-shadow: 0px 1px 2px rgba(60, 64, 67, 0.3), 0px 1px 3px 1px rgba(60, 64, 67, 0.15);\n",
              "      fill: #174EA6;\n",
              "    }\n",
              "\n",
              "    .colab-df-buttons div {\n",
              "      margin-bottom: 4px;\n",
              "    }\n",
              "\n",
              "    [theme=dark] .colab-df-convert {\n",
              "      background-color: #3B4455;\n",
              "      fill: #D2E3FC;\n",
              "    }\n",
              "\n",
              "    [theme=dark] .colab-df-convert:hover {\n",
              "      background-color: #434B5C;\n",
              "      box-shadow: 0px 1px 3px 1px rgba(0, 0, 0, 0.15);\n",
              "      filter: drop-shadow(0px 1px 2px rgba(0, 0, 0, 0.3));\n",
              "      fill: #FFFFFF;\n",
              "    }\n",
              "  </style>\n",
              "\n",
              "    <script>\n",
              "      const buttonEl =\n",
              "        document.querySelector('#df-72fe6825-fbcc-423a-b4b6-2e36b416f04b button.colab-df-convert');\n",
              "      buttonEl.style.display =\n",
              "        google.colab.kernel.accessAllowed ? 'block' : 'none';\n",
              "\n",
              "      async function convertToInteractive(key) {\n",
              "        const element = document.querySelector('#df-72fe6825-fbcc-423a-b4b6-2e36b416f04b');\n",
              "        const dataTable =\n",
              "          await google.colab.kernel.invokeFunction('convertToInteractive',\n",
              "                                                    [key], {});\n",
              "        if (!dataTable) return;\n",
              "\n",
              "        const docLinkHtml = 'Like what you see? Visit the ' +\n",
              "          '<a target=\"_blank\" href=https://colab.research.google.com/notebooks/data_table.ipynb>data table notebook</a>'\n",
              "          + ' to learn more about interactive tables.';\n",
              "        element.innerHTML = '';\n",
              "        dataTable['output_type'] = 'display_data';\n",
              "        await google.colab.output.renderOutput(dataTable, element);\n",
              "        const docLink = document.createElement('div');\n",
              "        docLink.innerHTML = docLinkHtml;\n",
              "        element.appendChild(docLink);\n",
              "      }\n",
              "    </script>\n",
              "  </div>\n",
              "\n",
              "\n",
              "<div id=\"df-4d98bab8-738f-43d5-8ec5-e5f6a3e55c89\">\n",
              "  <button class=\"colab-df-quickchart\" onclick=\"quickchart('df-4d98bab8-738f-43d5-8ec5-e5f6a3e55c89')\"\n",
              "            title=\"Suggest charts.\"\n",
              "            style=\"display:none;\">\n",
              "\n",
              "<svg xmlns=\"http://www.w3.org/2000/svg\" height=\"24px\"viewBox=\"0 0 24 24\"\n",
              "     width=\"24px\">\n",
              "    <g>\n",
              "        <path d=\"M19 3H5c-1.1 0-2 .9-2 2v14c0 1.1.9 2 2 2h14c1.1 0 2-.9 2-2V5c0-1.1-.9-2-2-2zM9 17H7v-7h2v7zm4 0h-2V7h2v10zm4 0h-2v-4h2v4z\"/>\n",
              "    </g>\n",
              "</svg>\n",
              "  </button>\n",
              "\n",
              "<style>\n",
              "  .colab-df-quickchart {\n",
              "      --bg-color: #E8F0FE;\n",
              "      --fill-color: #1967D2;\n",
              "      --hover-bg-color: #E2EBFA;\n",
              "      --hover-fill-color: #174EA6;\n",
              "      --disabled-fill-color: #AAA;\n",
              "      --disabled-bg-color: #DDD;\n",
              "  }\n",
              "\n",
              "  [theme=dark] .colab-df-quickchart {\n",
              "      --bg-color: #3B4455;\n",
              "      --fill-color: #D2E3FC;\n",
              "      --hover-bg-color: #434B5C;\n",
              "      --hover-fill-color: #FFFFFF;\n",
              "      --disabled-bg-color: #3B4455;\n",
              "      --disabled-fill-color: #666;\n",
              "  }\n",
              "\n",
              "  .colab-df-quickchart {\n",
              "    background-color: var(--bg-color);\n",
              "    border: none;\n",
              "    border-radius: 50%;\n",
              "    cursor: pointer;\n",
              "    display: none;\n",
              "    fill: var(--fill-color);\n",
              "    height: 32px;\n",
              "    padding: 0;\n",
              "    width: 32px;\n",
              "  }\n",
              "\n",
              "  .colab-df-quickchart:hover {\n",
              "    background-color: var(--hover-bg-color);\n",
              "    box-shadow: 0 1px 2px rgba(60, 64, 67, 0.3), 0 1px 3px 1px rgba(60, 64, 67, 0.15);\n",
              "    fill: var(--button-hover-fill-color);\n",
              "  }\n",
              "\n",
              "  .colab-df-quickchart-complete:disabled,\n",
              "  .colab-df-quickchart-complete:disabled:hover {\n",
              "    background-color: var(--disabled-bg-color);\n",
              "    fill: var(--disabled-fill-color);\n",
              "    box-shadow: none;\n",
              "  }\n",
              "\n",
              "  .colab-df-spinner {\n",
              "    border: 2px solid var(--fill-color);\n",
              "    border-color: transparent;\n",
              "    border-bottom-color: var(--fill-color);\n",
              "    animation:\n",
              "      spin 1s steps(1) infinite;\n",
              "  }\n",
              "\n",
              "  @keyframes spin {\n",
              "    0% {\n",
              "      border-color: transparent;\n",
              "      border-bottom-color: var(--fill-color);\n",
              "      border-left-color: var(--fill-color);\n",
              "    }\n",
              "    20% {\n",
              "      border-color: transparent;\n",
              "      border-left-color: var(--fill-color);\n",
              "      border-top-color: var(--fill-color);\n",
              "    }\n",
              "    30% {\n",
              "      border-color: transparent;\n",
              "      border-left-color: var(--fill-color);\n",
              "      border-top-color: var(--fill-color);\n",
              "      border-right-color: var(--fill-color);\n",
              "    }\n",
              "    40% {\n",
              "      border-color: transparent;\n",
              "      border-right-color: var(--fill-color);\n",
              "      border-top-color: var(--fill-color);\n",
              "    }\n",
              "    60% {\n",
              "      border-color: transparent;\n",
              "      border-right-color: var(--fill-color);\n",
              "    }\n",
              "    80% {\n",
              "      border-color: transparent;\n",
              "      border-right-color: var(--fill-color);\n",
              "      border-bottom-color: var(--fill-color);\n",
              "    }\n",
              "    90% {\n",
              "      border-color: transparent;\n",
              "      border-bottom-color: var(--fill-color);\n",
              "    }\n",
              "  }\n",
              "</style>\n",
              "\n",
              "  <script>\n",
              "    async function quickchart(key) {\n",
              "      const quickchartButtonEl =\n",
              "        document.querySelector('#' + key + ' button');\n",
              "      quickchartButtonEl.disabled = true;  // To prevent multiple clicks.\n",
              "      quickchartButtonEl.classList.add('colab-df-spinner');\n",
              "      try {\n",
              "        const charts = await google.colab.kernel.invokeFunction(\n",
              "            'suggestCharts', [key], {});\n",
              "      } catch (error) {\n",
              "        console.error('Error during call to suggestCharts:', error);\n",
              "      }\n",
              "      quickchartButtonEl.classList.remove('colab-df-spinner');\n",
              "      quickchartButtonEl.classList.add('colab-df-quickchart-complete');\n",
              "    }\n",
              "    (() => {\n",
              "      let quickchartButtonEl =\n",
              "        document.querySelector('#df-4d98bab8-738f-43d5-8ec5-e5f6a3e55c89 button');\n",
              "      quickchartButtonEl.style.display =\n",
              "        google.colab.kernel.accessAllowed ? 'block' : 'none';\n",
              "    })();\n",
              "  </script>\n",
              "</div>\n",
              "    </div>\n",
              "  </div>\n"
            ]
          },
          "metadata": {},
          "execution_count": 5
        }
      ]
    },
    {
      "cell_type": "code",
      "source": [
        "human_data.shape"
      ],
      "metadata": {
        "colab": {
          "base_uri": "https://localhost:8080/"
        },
        "id": "3a_-9fTvVIUD",
        "outputId": "59042dd1-1052-42b8-8582-006925956e4b"
      },
      "execution_count": 7,
      "outputs": [
        {
          "output_type": "execute_result",
          "data": {
            "text/plain": [
              "(4380, 2)"
            ]
          },
          "metadata": {},
          "execution_count": 7
        }
      ]
    },
    {
      "cell_type": "code",
      "source": [
        "human_data.info"
      ],
      "metadata": {
        "colab": {
          "base_uri": "https://localhost:8080/"
        },
        "id": "GynyjV8qVKZT",
        "outputId": "269a489c-d4c9-4073-96ba-046f68ea21ee"
      },
      "execution_count": 9,
      "outputs": [
        {
          "output_type": "execute_result",
          "data": {
            "text/plain": [
              "<bound method DataFrame.info of                                                sequence  class\n",
              "0     ATGCCCCAACTAAATACTACCGTATGGCCCACCATAATTACCCCCA...      4\n",
              "1     ATGAACGAAAATCTGTTCGCTTCATTCATTGCCCCCACAATCCTAG...      4\n",
              "2     ATGTGTGGCATTTGGGCGCTGTTTGGCAGTGATGATTGCCTTTCTG...      3\n",
              "3     ATGTGTGGCATTTGGGCGCTGTTTGGCAGTGATGATTGCCTTTCTG...      3\n",
              "4     ATGCAACAGCATTTTGAATTTGAATACCAGACCAAAGTGGATGGTG...      3\n",
              "...                                                 ...    ...\n",
              "4375  ATGGAAGATTTGGAGGAAACATTATTTGAAGAATTTGAAAACTATT...      0\n",
              "4376  ATGCAGTCCTTTCGGGAGCAAAGCAGTTACCACGGAAACCAGCAAA...      6\n",
              "4377  ATGCAGTCCTTTCGGGAGCAAAGCAGTTACCACGGAAACCAGCAAA...      6\n",
              "4378  ATGGGGCACCTGGTTTGCTGTCTGTGTGGCAAGTGGGCCAGTTACC...      6\n",
              "4379  ATGCAGTCCTTTCGGGAGCAAAGCAGTTACCACGGAAACCAGCAAA...      6\n",
              "\n",
              "[4380 rows x 2 columns]>"
            ]
          },
          "metadata": {},
          "execution_count": 9
        }
      ]
    },
    {
      "cell_type": "code",
      "source": [
        "human_data.info()"
      ],
      "metadata": {
        "colab": {
          "base_uri": "https://localhost:8080/"
        },
        "id": "fnYZSodgbO0O",
        "outputId": "493206ac-c595-4b40-9043-8d6586c67f2b"
      },
      "execution_count": 15,
      "outputs": [
        {
          "output_type": "stream",
          "name": "stdout",
          "text": [
            "<class 'pandas.core.frame.DataFrame'>\n",
            "RangeIndex: 4380 entries, 0 to 4379\n",
            "Data columns (total 2 columns):\n",
            " #   Column    Non-Null Count  Dtype \n",
            "---  ------    --------------  ----- \n",
            " 0   sequence  4380 non-null   object\n",
            " 1   class     4380 non-null   int64 \n",
            "dtypes: int64(1), object(1)\n",
            "memory usage: 68.6+ KB\n"
          ]
        }
      ]
    },
    {
      "cell_type": "code",
      "source": [
        "chimp_data = pd.read_table('DNA-Sequencing/chimp_data.txt')\n",
        "chimp_data.head()"
      ],
      "metadata": {
        "colab": {
          "base_uri": "https://localhost:8080/",
          "height": 206
        },
        "id": "ctp-adjrWd91",
        "outputId": "8cd0e534-718d-4d80-c403-db172a8a74de"
      },
      "execution_count": 10,
      "outputs": [
        {
          "output_type": "execute_result",
          "data": {
            "text/plain": [
              "                                            sequence  class\n",
              "0  ATGCCCCAACTAAATACCGCCGTATGACCCACCATAATTACCCCCA...      4\n",
              "1  ATGAACGAAAATCTATTCGCTTCATTCGCTGCCCCCACAATCCTAG...      4\n",
              "2  ATGGCCTCGCGCTGGTGGCGGTGGCGACGCGGCTGCTCCTGGAGGC...      4\n",
              "3  ATGGCCTCGCGCTGGTGGCGGTGGCGACGCGGCTGCTCCTGGAGGC...      4\n",
              "4  ATGGGCAGCGCCAGCCCGGGTCTGAGCAGCGTGTCCCCCAGCCACC...      6"
            ],
            "text/html": [
              "\n",
              "  <div id=\"df-81fdaf90-6f27-401a-8422-4ed25206275e\" class=\"colab-df-container\">\n",
              "    <div>\n",
              "<style scoped>\n",
              "    .dataframe tbody tr th:only-of-type {\n",
              "        vertical-align: middle;\n",
              "    }\n",
              "\n",
              "    .dataframe tbody tr th {\n",
              "        vertical-align: top;\n",
              "    }\n",
              "\n",
              "    .dataframe thead th {\n",
              "        text-align: right;\n",
              "    }\n",
              "</style>\n",
              "<table border=\"1\" class=\"dataframe\">\n",
              "  <thead>\n",
              "    <tr style=\"text-align: right;\">\n",
              "      <th></th>\n",
              "      <th>sequence</th>\n",
              "      <th>class</th>\n",
              "    </tr>\n",
              "  </thead>\n",
              "  <tbody>\n",
              "    <tr>\n",
              "      <th>0</th>\n",
              "      <td>ATGCCCCAACTAAATACCGCCGTATGACCCACCATAATTACCCCCA...</td>\n",
              "      <td>4</td>\n",
              "    </tr>\n",
              "    <tr>\n",
              "      <th>1</th>\n",
              "      <td>ATGAACGAAAATCTATTCGCTTCATTCGCTGCCCCCACAATCCTAG...</td>\n",
              "      <td>4</td>\n",
              "    </tr>\n",
              "    <tr>\n",
              "      <th>2</th>\n",
              "      <td>ATGGCCTCGCGCTGGTGGCGGTGGCGACGCGGCTGCTCCTGGAGGC...</td>\n",
              "      <td>4</td>\n",
              "    </tr>\n",
              "    <tr>\n",
              "      <th>3</th>\n",
              "      <td>ATGGCCTCGCGCTGGTGGCGGTGGCGACGCGGCTGCTCCTGGAGGC...</td>\n",
              "      <td>4</td>\n",
              "    </tr>\n",
              "    <tr>\n",
              "      <th>4</th>\n",
              "      <td>ATGGGCAGCGCCAGCCCGGGTCTGAGCAGCGTGTCCCCCAGCCACC...</td>\n",
              "      <td>6</td>\n",
              "    </tr>\n",
              "  </tbody>\n",
              "</table>\n",
              "</div>\n",
              "    <div class=\"colab-df-buttons\">\n",
              "\n",
              "  <div class=\"colab-df-container\">\n",
              "    <button class=\"colab-df-convert\" onclick=\"convertToInteractive('df-81fdaf90-6f27-401a-8422-4ed25206275e')\"\n",
              "            title=\"Convert this dataframe to an interactive table.\"\n",
              "            style=\"display:none;\">\n",
              "\n",
              "  <svg xmlns=\"http://www.w3.org/2000/svg\" height=\"24px\" viewBox=\"0 -960 960 960\">\n",
              "    <path d=\"M120-120v-720h720v720H120Zm60-500h600v-160H180v160Zm220 220h160v-160H400v160Zm0 220h160v-160H400v160ZM180-400h160v-160H180v160Zm440 0h160v-160H620v160ZM180-180h160v-160H180v160Zm440 0h160v-160H620v160Z\"/>\n",
              "  </svg>\n",
              "    </button>\n",
              "\n",
              "  <style>\n",
              "    .colab-df-container {\n",
              "      display:flex;\n",
              "      gap: 12px;\n",
              "    }\n",
              "\n",
              "    .colab-df-convert {\n",
              "      background-color: #E8F0FE;\n",
              "      border: none;\n",
              "      border-radius: 50%;\n",
              "      cursor: pointer;\n",
              "      display: none;\n",
              "      fill: #1967D2;\n",
              "      height: 32px;\n",
              "      padding: 0 0 0 0;\n",
              "      width: 32px;\n",
              "    }\n",
              "\n",
              "    .colab-df-convert:hover {\n",
              "      background-color: #E2EBFA;\n",
              "      box-shadow: 0px 1px 2px rgba(60, 64, 67, 0.3), 0px 1px 3px 1px rgba(60, 64, 67, 0.15);\n",
              "      fill: #174EA6;\n",
              "    }\n",
              "\n",
              "    .colab-df-buttons div {\n",
              "      margin-bottom: 4px;\n",
              "    }\n",
              "\n",
              "    [theme=dark] .colab-df-convert {\n",
              "      background-color: #3B4455;\n",
              "      fill: #D2E3FC;\n",
              "    }\n",
              "\n",
              "    [theme=dark] .colab-df-convert:hover {\n",
              "      background-color: #434B5C;\n",
              "      box-shadow: 0px 1px 3px 1px rgba(0, 0, 0, 0.15);\n",
              "      filter: drop-shadow(0px 1px 2px rgba(0, 0, 0, 0.3));\n",
              "      fill: #FFFFFF;\n",
              "    }\n",
              "  </style>\n",
              "\n",
              "    <script>\n",
              "      const buttonEl =\n",
              "        document.querySelector('#df-81fdaf90-6f27-401a-8422-4ed25206275e button.colab-df-convert');\n",
              "      buttonEl.style.display =\n",
              "        google.colab.kernel.accessAllowed ? 'block' : 'none';\n",
              "\n",
              "      async function convertToInteractive(key) {\n",
              "        const element = document.querySelector('#df-81fdaf90-6f27-401a-8422-4ed25206275e');\n",
              "        const dataTable =\n",
              "          await google.colab.kernel.invokeFunction('convertToInteractive',\n",
              "                                                    [key], {});\n",
              "        if (!dataTable) return;\n",
              "\n",
              "        const docLinkHtml = 'Like what you see? Visit the ' +\n",
              "          '<a target=\"_blank\" href=https://colab.research.google.com/notebooks/data_table.ipynb>data table notebook</a>'\n",
              "          + ' to learn more about interactive tables.';\n",
              "        element.innerHTML = '';\n",
              "        dataTable['output_type'] = 'display_data';\n",
              "        await google.colab.output.renderOutput(dataTable, element);\n",
              "        const docLink = document.createElement('div');\n",
              "        docLink.innerHTML = docLinkHtml;\n",
              "        element.appendChild(docLink);\n",
              "      }\n",
              "    </script>\n",
              "  </div>\n",
              "\n",
              "\n",
              "<div id=\"df-eda58470-a5f9-4bb7-b8c3-efa7344faab9\">\n",
              "  <button class=\"colab-df-quickchart\" onclick=\"quickchart('df-eda58470-a5f9-4bb7-b8c3-efa7344faab9')\"\n",
              "            title=\"Suggest charts.\"\n",
              "            style=\"display:none;\">\n",
              "\n",
              "<svg xmlns=\"http://www.w3.org/2000/svg\" height=\"24px\"viewBox=\"0 0 24 24\"\n",
              "     width=\"24px\">\n",
              "    <g>\n",
              "        <path d=\"M19 3H5c-1.1 0-2 .9-2 2v14c0 1.1.9 2 2 2h14c1.1 0 2-.9 2-2V5c0-1.1-.9-2-2-2zM9 17H7v-7h2v7zm4 0h-2V7h2v10zm4 0h-2v-4h2v4z\"/>\n",
              "    </g>\n",
              "</svg>\n",
              "  </button>\n",
              "\n",
              "<style>\n",
              "  .colab-df-quickchart {\n",
              "      --bg-color: #E8F0FE;\n",
              "      --fill-color: #1967D2;\n",
              "      --hover-bg-color: #E2EBFA;\n",
              "      --hover-fill-color: #174EA6;\n",
              "      --disabled-fill-color: #AAA;\n",
              "      --disabled-bg-color: #DDD;\n",
              "  }\n",
              "\n",
              "  [theme=dark] .colab-df-quickchart {\n",
              "      --bg-color: #3B4455;\n",
              "      --fill-color: #D2E3FC;\n",
              "      --hover-bg-color: #434B5C;\n",
              "      --hover-fill-color: #FFFFFF;\n",
              "      --disabled-bg-color: #3B4455;\n",
              "      --disabled-fill-color: #666;\n",
              "  }\n",
              "\n",
              "  .colab-df-quickchart {\n",
              "    background-color: var(--bg-color);\n",
              "    border: none;\n",
              "    border-radius: 50%;\n",
              "    cursor: pointer;\n",
              "    display: none;\n",
              "    fill: var(--fill-color);\n",
              "    height: 32px;\n",
              "    padding: 0;\n",
              "    width: 32px;\n",
              "  }\n",
              "\n",
              "  .colab-df-quickchart:hover {\n",
              "    background-color: var(--hover-bg-color);\n",
              "    box-shadow: 0 1px 2px rgba(60, 64, 67, 0.3), 0 1px 3px 1px rgba(60, 64, 67, 0.15);\n",
              "    fill: var(--button-hover-fill-color);\n",
              "  }\n",
              "\n",
              "  .colab-df-quickchart-complete:disabled,\n",
              "  .colab-df-quickchart-complete:disabled:hover {\n",
              "    background-color: var(--disabled-bg-color);\n",
              "    fill: var(--disabled-fill-color);\n",
              "    box-shadow: none;\n",
              "  }\n",
              "\n",
              "  .colab-df-spinner {\n",
              "    border: 2px solid var(--fill-color);\n",
              "    border-color: transparent;\n",
              "    border-bottom-color: var(--fill-color);\n",
              "    animation:\n",
              "      spin 1s steps(1) infinite;\n",
              "  }\n",
              "\n",
              "  @keyframes spin {\n",
              "    0% {\n",
              "      border-color: transparent;\n",
              "      border-bottom-color: var(--fill-color);\n",
              "      border-left-color: var(--fill-color);\n",
              "    }\n",
              "    20% {\n",
              "      border-color: transparent;\n",
              "      border-left-color: var(--fill-color);\n",
              "      border-top-color: var(--fill-color);\n",
              "    }\n",
              "    30% {\n",
              "      border-color: transparent;\n",
              "      border-left-color: var(--fill-color);\n",
              "      border-top-color: var(--fill-color);\n",
              "      border-right-color: var(--fill-color);\n",
              "    }\n",
              "    40% {\n",
              "      border-color: transparent;\n",
              "      border-right-color: var(--fill-color);\n",
              "      border-top-color: var(--fill-color);\n",
              "    }\n",
              "    60% {\n",
              "      border-color: transparent;\n",
              "      border-right-color: var(--fill-color);\n",
              "    }\n",
              "    80% {\n",
              "      border-color: transparent;\n",
              "      border-right-color: var(--fill-color);\n",
              "      border-bottom-color: var(--fill-color);\n",
              "    }\n",
              "    90% {\n",
              "      border-color: transparent;\n",
              "      border-bottom-color: var(--fill-color);\n",
              "    }\n",
              "  }\n",
              "</style>\n",
              "\n",
              "  <script>\n",
              "    async function quickchart(key) {\n",
              "      const quickchartButtonEl =\n",
              "        document.querySelector('#' + key + ' button');\n",
              "      quickchartButtonEl.disabled = true;  // To prevent multiple clicks.\n",
              "      quickchartButtonEl.classList.add('colab-df-spinner');\n",
              "      try {\n",
              "        const charts = await google.colab.kernel.invokeFunction(\n",
              "            'suggestCharts', [key], {});\n",
              "      } catch (error) {\n",
              "        console.error('Error during call to suggestCharts:', error);\n",
              "      }\n",
              "      quickchartButtonEl.classList.remove('colab-df-spinner');\n",
              "      quickchartButtonEl.classList.add('colab-df-quickchart-complete');\n",
              "    }\n",
              "    (() => {\n",
              "      let quickchartButtonEl =\n",
              "        document.querySelector('#df-eda58470-a5f9-4bb7-b8c3-efa7344faab9 button');\n",
              "      quickchartButtonEl.style.display =\n",
              "        google.colab.kernel.accessAllowed ? 'block' : 'none';\n",
              "    })();\n",
              "  </script>\n",
              "</div>\n",
              "    </div>\n",
              "  </div>\n"
            ]
          },
          "metadata": {},
          "execution_count": 10
        }
      ]
    },
    {
      "cell_type": "code",
      "source": [
        "chimp_data.shape"
      ],
      "metadata": {
        "colab": {
          "base_uri": "https://localhost:8080/"
        },
        "id": "uhahQ3N3XHB8",
        "outputId": "f2fde723-93d7-4630-e92c-a6d97c775593"
      },
      "execution_count": 13,
      "outputs": [
        {
          "output_type": "execute_result",
          "data": {
            "text/plain": [
              "(1682, 2)"
            ]
          },
          "metadata": {},
          "execution_count": 13
        }
      ]
    },
    {
      "cell_type": "code",
      "source": [
        "dog_data = pd.read_table('DNA-Sequencing/dog_data.txt')\n",
        "dog_data.head()"
      ],
      "metadata": {
        "colab": {
          "base_uri": "https://localhost:8080/",
          "height": 206
        },
        "id": "0gsnhV4sWeAk",
        "outputId": "43bd3da9-446e-4a86-f850-a7c564df46f0"
      },
      "execution_count": 11,
      "outputs": [
        {
          "output_type": "execute_result",
          "data": {
            "text/plain": [
              "                                            sequence  class\n",
              "0  ATGCCACAGCTAGATACATCCACCTGATTTATTATAATCTTTTCAA...      4\n",
              "1  ATGAACGAAAATCTATTCGCTTCTTTCGCTGCCCCCTCAATAATAG...      4\n",
              "2  ATGGAAACACCCTTCTACGGCGATGAGGCGCTGAGCGGCCTGGGCG...      6\n",
              "3  ATGTGCACTAAAATGGAACAGCCCTTCTACCACGACGACTCATACG...      6\n",
              "4  ATGAGCCGGCAGCTAAACAGAAGCCAGAACTGCTCCTTCAGTGACG...      0"
            ],
            "text/html": [
              "\n",
              "  <div id=\"df-19b1ed63-da96-4f6d-a264-01d7e972ae43\" class=\"colab-df-container\">\n",
              "    <div>\n",
              "<style scoped>\n",
              "    .dataframe tbody tr th:only-of-type {\n",
              "        vertical-align: middle;\n",
              "    }\n",
              "\n",
              "    .dataframe tbody tr th {\n",
              "        vertical-align: top;\n",
              "    }\n",
              "\n",
              "    .dataframe thead th {\n",
              "        text-align: right;\n",
              "    }\n",
              "</style>\n",
              "<table border=\"1\" class=\"dataframe\">\n",
              "  <thead>\n",
              "    <tr style=\"text-align: right;\">\n",
              "      <th></th>\n",
              "      <th>sequence</th>\n",
              "      <th>class</th>\n",
              "    </tr>\n",
              "  </thead>\n",
              "  <tbody>\n",
              "    <tr>\n",
              "      <th>0</th>\n",
              "      <td>ATGCCACAGCTAGATACATCCACCTGATTTATTATAATCTTTTCAA...</td>\n",
              "      <td>4</td>\n",
              "    </tr>\n",
              "    <tr>\n",
              "      <th>1</th>\n",
              "      <td>ATGAACGAAAATCTATTCGCTTCTTTCGCTGCCCCCTCAATAATAG...</td>\n",
              "      <td>4</td>\n",
              "    </tr>\n",
              "    <tr>\n",
              "      <th>2</th>\n",
              "      <td>ATGGAAACACCCTTCTACGGCGATGAGGCGCTGAGCGGCCTGGGCG...</td>\n",
              "      <td>6</td>\n",
              "    </tr>\n",
              "    <tr>\n",
              "      <th>3</th>\n",
              "      <td>ATGTGCACTAAAATGGAACAGCCCTTCTACCACGACGACTCATACG...</td>\n",
              "      <td>6</td>\n",
              "    </tr>\n",
              "    <tr>\n",
              "      <th>4</th>\n",
              "      <td>ATGAGCCGGCAGCTAAACAGAAGCCAGAACTGCTCCTTCAGTGACG...</td>\n",
              "      <td>0</td>\n",
              "    </tr>\n",
              "  </tbody>\n",
              "</table>\n",
              "</div>\n",
              "    <div class=\"colab-df-buttons\">\n",
              "\n",
              "  <div class=\"colab-df-container\">\n",
              "    <button class=\"colab-df-convert\" onclick=\"convertToInteractive('df-19b1ed63-da96-4f6d-a264-01d7e972ae43')\"\n",
              "            title=\"Convert this dataframe to an interactive table.\"\n",
              "            style=\"display:none;\">\n",
              "\n",
              "  <svg xmlns=\"http://www.w3.org/2000/svg\" height=\"24px\" viewBox=\"0 -960 960 960\">\n",
              "    <path d=\"M120-120v-720h720v720H120Zm60-500h600v-160H180v160Zm220 220h160v-160H400v160Zm0 220h160v-160H400v160ZM180-400h160v-160H180v160Zm440 0h160v-160H620v160ZM180-180h160v-160H180v160Zm440 0h160v-160H620v160Z\"/>\n",
              "  </svg>\n",
              "    </button>\n",
              "\n",
              "  <style>\n",
              "    .colab-df-container {\n",
              "      display:flex;\n",
              "      gap: 12px;\n",
              "    }\n",
              "\n",
              "    .colab-df-convert {\n",
              "      background-color: #E8F0FE;\n",
              "      border: none;\n",
              "      border-radius: 50%;\n",
              "      cursor: pointer;\n",
              "      display: none;\n",
              "      fill: #1967D2;\n",
              "      height: 32px;\n",
              "      padding: 0 0 0 0;\n",
              "      width: 32px;\n",
              "    }\n",
              "\n",
              "    .colab-df-convert:hover {\n",
              "      background-color: #E2EBFA;\n",
              "      box-shadow: 0px 1px 2px rgba(60, 64, 67, 0.3), 0px 1px 3px 1px rgba(60, 64, 67, 0.15);\n",
              "      fill: #174EA6;\n",
              "    }\n",
              "\n",
              "    .colab-df-buttons div {\n",
              "      margin-bottom: 4px;\n",
              "    }\n",
              "\n",
              "    [theme=dark] .colab-df-convert {\n",
              "      background-color: #3B4455;\n",
              "      fill: #D2E3FC;\n",
              "    }\n",
              "\n",
              "    [theme=dark] .colab-df-convert:hover {\n",
              "      background-color: #434B5C;\n",
              "      box-shadow: 0px 1px 3px 1px rgba(0, 0, 0, 0.15);\n",
              "      filter: drop-shadow(0px 1px 2px rgba(0, 0, 0, 0.3));\n",
              "      fill: #FFFFFF;\n",
              "    }\n",
              "  </style>\n",
              "\n",
              "    <script>\n",
              "      const buttonEl =\n",
              "        document.querySelector('#df-19b1ed63-da96-4f6d-a264-01d7e972ae43 button.colab-df-convert');\n",
              "      buttonEl.style.display =\n",
              "        google.colab.kernel.accessAllowed ? 'block' : 'none';\n",
              "\n",
              "      async function convertToInteractive(key) {\n",
              "        const element = document.querySelector('#df-19b1ed63-da96-4f6d-a264-01d7e972ae43');\n",
              "        const dataTable =\n",
              "          await google.colab.kernel.invokeFunction('convertToInteractive',\n",
              "                                                    [key], {});\n",
              "        if (!dataTable) return;\n",
              "\n",
              "        const docLinkHtml = 'Like what you see? Visit the ' +\n",
              "          '<a target=\"_blank\" href=https://colab.research.google.com/notebooks/data_table.ipynb>data table notebook</a>'\n",
              "          + ' to learn more about interactive tables.';\n",
              "        element.innerHTML = '';\n",
              "        dataTable['output_type'] = 'display_data';\n",
              "        await google.colab.output.renderOutput(dataTable, element);\n",
              "        const docLink = document.createElement('div');\n",
              "        docLink.innerHTML = docLinkHtml;\n",
              "        element.appendChild(docLink);\n",
              "      }\n",
              "    </script>\n",
              "  </div>\n",
              "\n",
              "\n",
              "<div id=\"df-cf6e65ac-acdf-4700-88f6-7196f0ad7937\">\n",
              "  <button class=\"colab-df-quickchart\" onclick=\"quickchart('df-cf6e65ac-acdf-4700-88f6-7196f0ad7937')\"\n",
              "            title=\"Suggest charts.\"\n",
              "            style=\"display:none;\">\n",
              "\n",
              "<svg xmlns=\"http://www.w3.org/2000/svg\" height=\"24px\"viewBox=\"0 0 24 24\"\n",
              "     width=\"24px\">\n",
              "    <g>\n",
              "        <path d=\"M19 3H5c-1.1 0-2 .9-2 2v14c0 1.1.9 2 2 2h14c1.1 0 2-.9 2-2V5c0-1.1-.9-2-2-2zM9 17H7v-7h2v7zm4 0h-2V7h2v10zm4 0h-2v-4h2v4z\"/>\n",
              "    </g>\n",
              "</svg>\n",
              "  </button>\n",
              "\n",
              "<style>\n",
              "  .colab-df-quickchart {\n",
              "      --bg-color: #E8F0FE;\n",
              "      --fill-color: #1967D2;\n",
              "      --hover-bg-color: #E2EBFA;\n",
              "      --hover-fill-color: #174EA6;\n",
              "      --disabled-fill-color: #AAA;\n",
              "      --disabled-bg-color: #DDD;\n",
              "  }\n",
              "\n",
              "  [theme=dark] .colab-df-quickchart {\n",
              "      --bg-color: #3B4455;\n",
              "      --fill-color: #D2E3FC;\n",
              "      --hover-bg-color: #434B5C;\n",
              "      --hover-fill-color: #FFFFFF;\n",
              "      --disabled-bg-color: #3B4455;\n",
              "      --disabled-fill-color: #666;\n",
              "  }\n",
              "\n",
              "  .colab-df-quickchart {\n",
              "    background-color: var(--bg-color);\n",
              "    border: none;\n",
              "    border-radius: 50%;\n",
              "    cursor: pointer;\n",
              "    display: none;\n",
              "    fill: var(--fill-color);\n",
              "    height: 32px;\n",
              "    padding: 0;\n",
              "    width: 32px;\n",
              "  }\n",
              "\n",
              "  .colab-df-quickchart:hover {\n",
              "    background-color: var(--hover-bg-color);\n",
              "    box-shadow: 0 1px 2px rgba(60, 64, 67, 0.3), 0 1px 3px 1px rgba(60, 64, 67, 0.15);\n",
              "    fill: var(--button-hover-fill-color);\n",
              "  }\n",
              "\n",
              "  .colab-df-quickchart-complete:disabled,\n",
              "  .colab-df-quickchart-complete:disabled:hover {\n",
              "    background-color: var(--disabled-bg-color);\n",
              "    fill: var(--disabled-fill-color);\n",
              "    box-shadow: none;\n",
              "  }\n",
              "\n",
              "  .colab-df-spinner {\n",
              "    border: 2px solid var(--fill-color);\n",
              "    border-color: transparent;\n",
              "    border-bottom-color: var(--fill-color);\n",
              "    animation:\n",
              "      spin 1s steps(1) infinite;\n",
              "  }\n",
              "\n",
              "  @keyframes spin {\n",
              "    0% {\n",
              "      border-color: transparent;\n",
              "      border-bottom-color: var(--fill-color);\n",
              "      border-left-color: var(--fill-color);\n",
              "    }\n",
              "    20% {\n",
              "      border-color: transparent;\n",
              "      border-left-color: var(--fill-color);\n",
              "      border-top-color: var(--fill-color);\n",
              "    }\n",
              "    30% {\n",
              "      border-color: transparent;\n",
              "      border-left-color: var(--fill-color);\n",
              "      border-top-color: var(--fill-color);\n",
              "      border-right-color: var(--fill-color);\n",
              "    }\n",
              "    40% {\n",
              "      border-color: transparent;\n",
              "      border-right-color: var(--fill-color);\n",
              "      border-top-color: var(--fill-color);\n",
              "    }\n",
              "    60% {\n",
              "      border-color: transparent;\n",
              "      border-right-color: var(--fill-color);\n",
              "    }\n",
              "    80% {\n",
              "      border-color: transparent;\n",
              "      border-right-color: var(--fill-color);\n",
              "      border-bottom-color: var(--fill-color);\n",
              "    }\n",
              "    90% {\n",
              "      border-color: transparent;\n",
              "      border-bottom-color: var(--fill-color);\n",
              "    }\n",
              "  }\n",
              "</style>\n",
              "\n",
              "  <script>\n",
              "    async function quickchart(key) {\n",
              "      const quickchartButtonEl =\n",
              "        document.querySelector('#' + key + ' button');\n",
              "      quickchartButtonEl.disabled = true;  // To prevent multiple clicks.\n",
              "      quickchartButtonEl.classList.add('colab-df-spinner');\n",
              "      try {\n",
              "        const charts = await google.colab.kernel.invokeFunction(\n",
              "            'suggestCharts', [key], {});\n",
              "      } catch (error) {\n",
              "        console.error('Error during call to suggestCharts:', error);\n",
              "      }\n",
              "      quickchartButtonEl.classList.remove('colab-df-spinner');\n",
              "      quickchartButtonEl.classList.add('colab-df-quickchart-complete');\n",
              "    }\n",
              "    (() => {\n",
              "      let quickchartButtonEl =\n",
              "        document.querySelector('#df-cf6e65ac-acdf-4700-88f6-7196f0ad7937 button');\n",
              "      quickchartButtonEl.style.display =\n",
              "        google.colab.kernel.accessAllowed ? 'block' : 'none';\n",
              "    })();\n",
              "  </script>\n",
              "</div>\n",
              "    </div>\n",
              "  </div>\n"
            ]
          },
          "metadata": {},
          "execution_count": 11
        }
      ]
    },
    {
      "cell_type": "code",
      "source": [
        "dog_data.shape"
      ],
      "metadata": {
        "colab": {
          "base_uri": "https://localhost:8080/"
        },
        "id": "lGpNX7hzXBKU",
        "outputId": "56dd0b17-50e2-4288-a0f7-75034cfbf265"
      },
      "execution_count": 12,
      "outputs": [
        {
          "output_type": "execute_result",
          "data": {
            "text/plain": [
              "(820, 2)"
            ]
          },
          "metadata": {},
          "execution_count": 12
        }
      ]
    },
    {
      "cell_type": "markdown",
      "source": [
        "**k-mer = n-grams**\n",
        "\n",
        "In DNA sequencing, a \"k-mer\" refers to a contiguous sequence of k nucleotide bases (A, C, G, or T) within a DNA molecule. K-mers are a fundamental concept and are widely used in various bioinformatics and genomics applications.\n",
        "\n",
        "Here's a breakdown of key points related to k-mers:\n",
        "\n",
        "Definition: A k-mer is a subsequence of length k taken from a DNA sequence. For example, if you have the DNA sequence \"AGCTTAC,\" the 3-mers (3-mers with a length of 3) would be \"AGC,\" \"GCT,\" \"CTT,\" \"TTA,\" \"TAC.\"\n",
        "\n",
        "Importance: K-mers are essential in DNA sequencing and analysis because they capture local sequence information. By examining the distribution and frequency of k-mers in DNA sequences, researchers can gain insights into genome structure, identify repetitive regions, discover potential motifs or patterns, and perform various computational analyses.\n",
        "\n",
        "K-mer Counting: One common application of k-mers is k-mer counting, where the frequency of each k-mer in a DNA dataset is determined. K-mer counting is used in genome assembly, error correction, and metagenomics studies, among other tasks.\n",
        "\n",
        "Genome Assembly: In genome assembly, the process of reconstructing an organism's entire genome from short DNA sequences (reads), k-mers play a crucial role. Overlapping k-mers in reads can help in building longer contiguous sequences, eventually leading to the assembly of the complete genome.\n",
        "\n",
        "Error Correction: K-mers are used to identify and correct errors in DNA sequencing data. By comparing the k-mers observed in the data to a reference genome or other datasets, sequencing errors can be detected and corrected.\n",
        "\n",
        "Metagenomics: In metagenomics, which involves studying genetic material from environmental samples, k-mer analysis helps identify the presence of different species or organisms by examining the unique k-mer signatures associated with their genomes.\n",
        "\n",
        "K-mer Size: The choice of k, the length of the k-mer, is important and depends on the specific analysis being performed. Shorter k-mers provide higher sensitivity to local sequence variations but can lead to increased computational complexity and memory requirements. Longer k-mers reduce sensitivity to small variations but may be computationally more efficient."
      ],
      "metadata": {
        "id": "n-aLcMWFXluz"
      }
    },
    {
      "cell_type": "markdown",
      "source": [
        "examers are a specific type of k-mers in DNA sequencing, where \"k\" is equal to 6. In other words, hexamers are contiguous sequences of six nucleotide bases (A, C, G, or T) within a DNA molecule. They are a subset of k-mers and are widely used in various genomics and bioinformatics applications.\n",
        "\n",
        "Application: Hexamers are used in various genomic analyses, such as genome assembly, sequence alignment, motif discovery, and gene expression studies. They capture information about short sequence patterns and can help identify specific functional elements in DNA.\n",
        "\n",
        "Consider the following DNA sequence:\n",
        "\n",
        "\n",
        "ATGCTAGCTAGCTAGCGATCGTAGCTAGCTAGCTAGCGATCGTACG\n",
        "\n",
        "\n",
        "Here are a few examples of hexamers extracted from this sequence:\n",
        "\n",
        "Hexamer 1: ATGCTA\n",
        "\n",
        "Hexamer 2: TGCTAG\n",
        "\n",
        "Hexamer 3: GCTAGC\n",
        "\n",
        "Hexamer 4: CTAGCT\n",
        "\n",
        "Hexamer 5: TAGCGA\n",
        "\n",
        "Each of these hexamers represents a distinct sequence of six nucleotide bases starting at different positions along the DNA sequence. Hexamers can be used for various purposes:"
      ],
      "metadata": {
        "id": "yQWqMgzoYIpm"
      }
    },
    {
      "cell_type": "code",
      "source": [
        "# function to convert sequence strings into k-mers, defualt size = 6 (hexamer)\n",
        "# Define a function to generate k-mers from a DNA sequence\n",
        "def getkmers(sequence, k=6):\n",
        "    kmer_list = []\n",
        "    for i in range(len(sequence) - k + 1):\n",
        "        kmer = sequence[i:i+k]\n",
        "        kmer_list.append(kmer)\n",
        "    return ' '.join(kmer_list)  # Return k-mers as a space-separated string\n"
      ],
      "metadata": {
        "id": "hvEEDXp6Yj3m"
      },
      "execution_count": 17,
      "outputs": []
    },
    {
      "cell_type": "code",
      "source": [
        "from ast import Lambda  # Import Lambda from the ast module\n",
        "\n",
        "\n",
        "# Apply the getkmers function to each row in the 'sequence' column of 'human_data' DataFrame\n",
        "human_data['words'] = human_data['sequence'].apply(lambda x: getkmers(x, k=6))\n",
        "\n",
        "# Drop the original 'sequence' column from 'human_data'\n",
        "human_data = human_data.drop('sequence', axis=1)\n",
        "\n",
        "# Repeat the same steps for 'chimp_data' and 'dog_data'\n",
        "chimp_data['words'] = chimp_data['sequence'].apply(lambda x: getkmers(x, k=6))\n",
        "chimp_data = chimp_data.drop('sequence', axis=1)\n",
        "\n",
        "dog_data['words'] = dog_data['sequence'].apply(lambda x: getkmers(x, k=6))\n",
        "dog_data = dog_data.drop('sequence', axis=1)\n"
      ],
      "metadata": {
        "id": "kzZkQbV7WeEA"
      },
      "execution_count": 18,
      "outputs": []
    },
    {
      "cell_type": "code",
      "source": [
        "human_data.head()"
      ],
      "metadata": {
        "colab": {
          "base_uri": "https://localhost:8080/",
          "height": 206
        },
        "id": "5TwXWLHAcD8F",
        "outputId": "39410ae1-adc3-445b-8ace-aa70a7c65425"
      },
      "execution_count": 19,
      "outputs": [
        {
          "output_type": "execute_result",
          "data": {
            "text/plain": [
              "   class                                              words\n",
              "0      4  ATGCCC TGCCCC GCCCCA CCCCAA CCCAAC CCAACT CAAC...\n",
              "1      4  ATGAAC TGAACG GAACGA AACGAA ACGAAA CGAAAA GAAA...\n",
              "2      3  ATGTGT TGTGTG GTGTGG TGTGGC GTGGCA TGGCAT GGCA...\n",
              "3      3  ATGTGT TGTGTG GTGTGG TGTGGC GTGGCA TGGCAT GGCA...\n",
              "4      3  ATGCAA TGCAAC GCAACA CAACAG AACAGC ACAGCA CAGC..."
            ],
            "text/html": [
              "\n",
              "  <div id=\"df-639faebd-32c9-4ee4-a675-37506095e420\" class=\"colab-df-container\">\n",
              "    <div>\n",
              "<style scoped>\n",
              "    .dataframe tbody tr th:only-of-type {\n",
              "        vertical-align: middle;\n",
              "    }\n",
              "\n",
              "    .dataframe tbody tr th {\n",
              "        vertical-align: top;\n",
              "    }\n",
              "\n",
              "    .dataframe thead th {\n",
              "        text-align: right;\n",
              "    }\n",
              "</style>\n",
              "<table border=\"1\" class=\"dataframe\">\n",
              "  <thead>\n",
              "    <tr style=\"text-align: right;\">\n",
              "      <th></th>\n",
              "      <th>class</th>\n",
              "      <th>words</th>\n",
              "    </tr>\n",
              "  </thead>\n",
              "  <tbody>\n",
              "    <tr>\n",
              "      <th>0</th>\n",
              "      <td>4</td>\n",
              "      <td>ATGCCC TGCCCC GCCCCA CCCCAA CCCAAC CCAACT CAAC...</td>\n",
              "    </tr>\n",
              "    <tr>\n",
              "      <th>1</th>\n",
              "      <td>4</td>\n",
              "      <td>ATGAAC TGAACG GAACGA AACGAA ACGAAA CGAAAA GAAA...</td>\n",
              "    </tr>\n",
              "    <tr>\n",
              "      <th>2</th>\n",
              "      <td>3</td>\n",
              "      <td>ATGTGT TGTGTG GTGTGG TGTGGC GTGGCA TGGCAT GGCA...</td>\n",
              "    </tr>\n",
              "    <tr>\n",
              "      <th>3</th>\n",
              "      <td>3</td>\n",
              "      <td>ATGTGT TGTGTG GTGTGG TGTGGC GTGGCA TGGCAT GGCA...</td>\n",
              "    </tr>\n",
              "    <tr>\n",
              "      <th>4</th>\n",
              "      <td>3</td>\n",
              "      <td>ATGCAA TGCAAC GCAACA CAACAG AACAGC ACAGCA CAGC...</td>\n",
              "    </tr>\n",
              "  </tbody>\n",
              "</table>\n",
              "</div>\n",
              "    <div class=\"colab-df-buttons\">\n",
              "\n",
              "  <div class=\"colab-df-container\">\n",
              "    <button class=\"colab-df-convert\" onclick=\"convertToInteractive('df-639faebd-32c9-4ee4-a675-37506095e420')\"\n",
              "            title=\"Convert this dataframe to an interactive table.\"\n",
              "            style=\"display:none;\">\n",
              "\n",
              "  <svg xmlns=\"http://www.w3.org/2000/svg\" height=\"24px\" viewBox=\"0 -960 960 960\">\n",
              "    <path d=\"M120-120v-720h720v720H120Zm60-500h600v-160H180v160Zm220 220h160v-160H400v160Zm0 220h160v-160H400v160ZM180-400h160v-160H180v160Zm440 0h160v-160H620v160ZM180-180h160v-160H180v160Zm440 0h160v-160H620v160Z\"/>\n",
              "  </svg>\n",
              "    </button>\n",
              "\n",
              "  <style>\n",
              "    .colab-df-container {\n",
              "      display:flex;\n",
              "      gap: 12px;\n",
              "    }\n",
              "\n",
              "    .colab-df-convert {\n",
              "      background-color: #E8F0FE;\n",
              "      border: none;\n",
              "      border-radius: 50%;\n",
              "      cursor: pointer;\n",
              "      display: none;\n",
              "      fill: #1967D2;\n",
              "      height: 32px;\n",
              "      padding: 0 0 0 0;\n",
              "      width: 32px;\n",
              "    }\n",
              "\n",
              "    .colab-df-convert:hover {\n",
              "      background-color: #E2EBFA;\n",
              "      box-shadow: 0px 1px 2px rgba(60, 64, 67, 0.3), 0px 1px 3px 1px rgba(60, 64, 67, 0.15);\n",
              "      fill: #174EA6;\n",
              "    }\n",
              "\n",
              "    .colab-df-buttons div {\n",
              "      margin-bottom: 4px;\n",
              "    }\n",
              "\n",
              "    [theme=dark] .colab-df-convert {\n",
              "      background-color: #3B4455;\n",
              "      fill: #D2E3FC;\n",
              "    }\n",
              "\n",
              "    [theme=dark] .colab-df-convert:hover {\n",
              "      background-color: #434B5C;\n",
              "      box-shadow: 0px 1px 3px 1px rgba(0, 0, 0, 0.15);\n",
              "      filter: drop-shadow(0px 1px 2px rgba(0, 0, 0, 0.3));\n",
              "      fill: #FFFFFF;\n",
              "    }\n",
              "  </style>\n",
              "\n",
              "    <script>\n",
              "      const buttonEl =\n",
              "        document.querySelector('#df-639faebd-32c9-4ee4-a675-37506095e420 button.colab-df-convert');\n",
              "      buttonEl.style.display =\n",
              "        google.colab.kernel.accessAllowed ? 'block' : 'none';\n",
              "\n",
              "      async function convertToInteractive(key) {\n",
              "        const element = document.querySelector('#df-639faebd-32c9-4ee4-a675-37506095e420');\n",
              "        const dataTable =\n",
              "          await google.colab.kernel.invokeFunction('convertToInteractive',\n",
              "                                                    [key], {});\n",
              "        if (!dataTable) return;\n",
              "\n",
              "        const docLinkHtml = 'Like what you see? Visit the ' +\n",
              "          '<a target=\"_blank\" href=https://colab.research.google.com/notebooks/data_table.ipynb>data table notebook</a>'\n",
              "          + ' to learn more about interactive tables.';\n",
              "        element.innerHTML = '';\n",
              "        dataTable['output_type'] = 'display_data';\n",
              "        await google.colab.output.renderOutput(dataTable, element);\n",
              "        const docLink = document.createElement('div');\n",
              "        docLink.innerHTML = docLinkHtml;\n",
              "        element.appendChild(docLink);\n",
              "      }\n",
              "    </script>\n",
              "  </div>\n",
              "\n",
              "\n",
              "<div id=\"df-902dcf14-701e-48a9-bc58-9d1d439820b2\">\n",
              "  <button class=\"colab-df-quickchart\" onclick=\"quickchart('df-902dcf14-701e-48a9-bc58-9d1d439820b2')\"\n",
              "            title=\"Suggest charts.\"\n",
              "            style=\"display:none;\">\n",
              "\n",
              "<svg xmlns=\"http://www.w3.org/2000/svg\" height=\"24px\"viewBox=\"0 0 24 24\"\n",
              "     width=\"24px\">\n",
              "    <g>\n",
              "        <path d=\"M19 3H5c-1.1 0-2 .9-2 2v14c0 1.1.9 2 2 2h14c1.1 0 2-.9 2-2V5c0-1.1-.9-2-2-2zM9 17H7v-7h2v7zm4 0h-2V7h2v10zm4 0h-2v-4h2v4z\"/>\n",
              "    </g>\n",
              "</svg>\n",
              "  </button>\n",
              "\n",
              "<style>\n",
              "  .colab-df-quickchart {\n",
              "      --bg-color: #E8F0FE;\n",
              "      --fill-color: #1967D2;\n",
              "      --hover-bg-color: #E2EBFA;\n",
              "      --hover-fill-color: #174EA6;\n",
              "      --disabled-fill-color: #AAA;\n",
              "      --disabled-bg-color: #DDD;\n",
              "  }\n",
              "\n",
              "  [theme=dark] .colab-df-quickchart {\n",
              "      --bg-color: #3B4455;\n",
              "      --fill-color: #D2E3FC;\n",
              "      --hover-bg-color: #434B5C;\n",
              "      --hover-fill-color: #FFFFFF;\n",
              "      --disabled-bg-color: #3B4455;\n",
              "      --disabled-fill-color: #666;\n",
              "  }\n",
              "\n",
              "  .colab-df-quickchart {\n",
              "    background-color: var(--bg-color);\n",
              "    border: none;\n",
              "    border-radius: 50%;\n",
              "    cursor: pointer;\n",
              "    display: none;\n",
              "    fill: var(--fill-color);\n",
              "    height: 32px;\n",
              "    padding: 0;\n",
              "    width: 32px;\n",
              "  }\n",
              "\n",
              "  .colab-df-quickchart:hover {\n",
              "    background-color: var(--hover-bg-color);\n",
              "    box-shadow: 0 1px 2px rgba(60, 64, 67, 0.3), 0 1px 3px 1px rgba(60, 64, 67, 0.15);\n",
              "    fill: var(--button-hover-fill-color);\n",
              "  }\n",
              "\n",
              "  .colab-df-quickchart-complete:disabled,\n",
              "  .colab-df-quickchart-complete:disabled:hover {\n",
              "    background-color: var(--disabled-bg-color);\n",
              "    fill: var(--disabled-fill-color);\n",
              "    box-shadow: none;\n",
              "  }\n",
              "\n",
              "  .colab-df-spinner {\n",
              "    border: 2px solid var(--fill-color);\n",
              "    border-color: transparent;\n",
              "    border-bottom-color: var(--fill-color);\n",
              "    animation:\n",
              "      spin 1s steps(1) infinite;\n",
              "  }\n",
              "\n",
              "  @keyframes spin {\n",
              "    0% {\n",
              "      border-color: transparent;\n",
              "      border-bottom-color: var(--fill-color);\n",
              "      border-left-color: var(--fill-color);\n",
              "    }\n",
              "    20% {\n",
              "      border-color: transparent;\n",
              "      border-left-color: var(--fill-color);\n",
              "      border-top-color: var(--fill-color);\n",
              "    }\n",
              "    30% {\n",
              "      border-color: transparent;\n",
              "      border-left-color: var(--fill-color);\n",
              "      border-top-color: var(--fill-color);\n",
              "      border-right-color: var(--fill-color);\n",
              "    }\n",
              "    40% {\n",
              "      border-color: transparent;\n",
              "      border-right-color: var(--fill-color);\n",
              "      border-top-color: var(--fill-color);\n",
              "    }\n",
              "    60% {\n",
              "      border-color: transparent;\n",
              "      border-right-color: var(--fill-color);\n",
              "    }\n",
              "    80% {\n",
              "      border-color: transparent;\n",
              "      border-right-color: var(--fill-color);\n",
              "      border-bottom-color: var(--fill-color);\n",
              "    }\n",
              "    90% {\n",
              "      border-color: transparent;\n",
              "      border-bottom-color: var(--fill-color);\n",
              "    }\n",
              "  }\n",
              "</style>\n",
              "\n",
              "  <script>\n",
              "    async function quickchart(key) {\n",
              "      const quickchartButtonEl =\n",
              "        document.querySelector('#' + key + ' button');\n",
              "      quickchartButtonEl.disabled = true;  // To prevent multiple clicks.\n",
              "      quickchartButtonEl.classList.add('colab-df-spinner');\n",
              "      try {\n",
              "        const charts = await google.colab.kernel.invokeFunction(\n",
              "            'suggestCharts', [key], {});\n",
              "      } catch (error) {\n",
              "        console.error('Error during call to suggestCharts:', error);\n",
              "      }\n",
              "      quickchartButtonEl.classList.remove('colab-df-spinner');\n",
              "      quickchartButtonEl.classList.add('colab-df-quickchart-complete');\n",
              "    }\n",
              "    (() => {\n",
              "      let quickchartButtonEl =\n",
              "        document.querySelector('#df-902dcf14-701e-48a9-bc58-9d1d439820b2 button');\n",
              "      quickchartButtonEl.style.display =\n",
              "        google.colab.kernel.accessAllowed ? 'block' : 'none';\n",
              "    })();\n",
              "  </script>\n",
              "</div>\n",
              "    </div>\n",
              "  </div>\n"
            ]
          },
          "metadata": {},
          "execution_count": 19
        }
      ]
    },
    {
      "cell_type": "code",
      "source": [
        "human_texts = list(human_data['words'])\n",
        "for i in range(len(human_texts)):\n",
        "    human_texts[i] = ''.join(human_texts[i])\n",
        "\n",
        "y_human = human_data.iloc[:, 0].values\n"
      ],
      "metadata": {
        "id": "ayhrZ37vcV5V"
      },
      "execution_count": 23,
      "outputs": []
    },
    {
      "cell_type": "code",
      "source": [
        "#Printing the third item from 'human_texts' and 'y_data':\n",
        "\n",
        "print(human_texts[2])\n",
        "print(\"__________________________________________________________________________________________________\")\n",
        "print(y_human[2])\n"
      ],
      "metadata": {
        "colab": {
          "base_uri": "https://localhost:8080/"
        },
        "id": "sxED5yPXdoSI",
        "outputId": "266663bf-ba47-4543-c707-29d2c8d88b79"
      },
      "execution_count": 24,
      "outputs": [
        {
          "output_type": "stream",
          "name": "stdout",
          "text": [
            "ATGTGT TGTGTG GTGTGG TGTGGC GTGGCA TGGCAT GGCATT GCATTT CATTTG ATTTGG TTTGGG TTGGGC TGGGCG GGGCGC GGCGCT GCGCTG CGCTGT GCTGTT CTGTTT TGTTTG GTTTGG TTTGGC TTGGCA TGGCAG GGCAGT GCAGTG CAGTGA AGTGAT GTGATG TGATGA GATGAT ATGATT TGATTG GATTGC ATTGCC TTGCCT TGCCTT GCCTTT CCTTTC CTTTCT TTTCTG TTCTGT TCTGTT CTGTTC TGTTCA GTTCAG TTCAGT TCAGTG CAGTGT AGTGTC GTGTCT TGTCTG GTCTGA TCTGAG CTGAGT TGAGTG GAGTGC AGTGCT GTGCTA TGCTAT GCTATG CTATGA TATGAA ATGAAG TGAAGA GAAGAT AAGATT AGATTG GATTGC ATTGCA TTGCAC TGCACA GCACAC CACACA ACACAG CACAGA ACAGAG CAGAGG AGAGGT GAGGTC AGGTCC GGTCCA GTCCAG TCCAGA CCAGAT CAGATG AGATGC GATGCA ATGCAT TGCATT GCATTC CATTCC ATTCCG TTCCGT TCCGTT CCGTTT CGTTTT GTTTTG TTTTGA TTTGAG TTGAGA TGAGAA GAGAAT AGAATG GAATGT AATGTC ATGTCA TGTCAA GTCAAT TCAATG CAATGG AATGGA ATGGAT TGGATA GGATAC GATACA ATACAC TACACC ACACCA CACCAA ACCAAC CCAACT CAACTG AACTGC ACTGCT CTGCTG TGCTGC GCTGCT CTGCTT TGCTTT GCTTTG CTTTGG TTTGGA TTGGAT TGGATT GGATTT GATTTC ATTTCA TTTCAC TTCACC TCACCG CACCGG ACCGGT CCGGTT CGGTTG GGTTGG GTTGGC TTGGCG TGGCGG GGCGGT GCGGTA CGGTAG GGTAGT GTAGTT TAGTTG AGTTGA GTTGAC TTGACC TGACCC GACCCG ACCCGC CCCGCT CCGCTG CGCTGT GCTGTT CTGTTT TGTTTG GTTTGG TTTGGA TTGGAA TGGAAT GGAATG GAATGC AATGCA ATGCAG TGCAGC GCAGCC CAGCCA AGCCAA GCCAAT CCAATT CAATTC AATTCG ATTCGA TTCGAG TCGAGT CGAGTG GAGTGA AGTGAA GTGAAG TGAAGA GAAGAA AAGAAA AGAAAT GAAATA AAATAT AATATC ATATCC TATCCG ATCCGT TCCGTA CCGTAT CGTATT GTATTT TATTTG ATTTGT TTTGTG TTGTGG TGTGGC GTGGCT TGGCTC GGCTCT GCTCTG CTCTGT TCTGTT CTGTTA TGTTAC GTTACA TTACAA TACAAT ACAATG CAATGG AATGGT ATGGTG TGGTGA GGTGAA GTGAAA TGAAAT GAAATC AAATCT AATCTA ATCTAC TCTACA CTACAA TACAAC ACAACC CAACCA AACCAT ACCATA CCATAA CATAAG ATAAGA TAAGAA AAGAAG AGAAGA GAAGAT AAGATG AGATGC GATGCA ATGCAA TGCAAC GCAACA CAACAG AACAGC ACAGCA CAGCAT AGCATT GCATTT CATTTT ATTTTG TTTTGA TTTGAA TTGAAT TGAATT GAATTT AATTTG ATTTGA TTTGAA TTGAAT TGAATA GAATAC AATACC ATACCA TACCAG ACCAGA CCAGAC CAGACC AGACCA GACCAA ACCAAA CCAAAG CAAAGT AAAGTG AAGTGG AGTGGA GTGGAT TGGATG GGATGG GATGGT ATGGTG TGGTGA GGTGAG GTGAGA TGAGAT GAGATA AGATAA GATAAT ATAATC TAATCC AATCCT ATCCTT TCCTTC CCTTCA CTTCAT TTCATC TCATCT CATCTT ATCTTT TCTTTA CTTTAT TTTATG TTATGA TATGAC ATGACA TGACAA GACAAA ACAAAG CAAAGG AAAGGA AAGGAG AGGAGG GGAGGA GAGGAA AGGAAT GGAATT GAATTG AATTGA ATTGAG TTGAGC TGAGCA GAGCAA AGCAAA GCAAAC CAAACA AAACAA AACAAT ACAATT CAATTT AATTTG ATTTGT TTTGTA TTGTAT TGTATG GTATGT TATGTT ATGTTG TGTTGG GTTGGA TTGGAT TGGATG GGATGG GATGGT ATGGTG TGGTGT GGTGTG GTGTGT TGTGTT GTGTTT TGTTTG GTTTGC TTTGCA TTGCAT TGCATT GCATTT CATTTG ATTTGT TTTGTT TTGTTT TGTTTT GTTTTA TTTTAC TTTACT TTACTG TACTGG ACTGGA CTGGAT TGGATA GGATAC GATACT ATACTG TACTGC ACTGCC CTGCCA TGCCAA GCCAAT CCAATA CAATAA AATAAG ATAAGA TAAGAA AAGAAA AGAAAG GAAAGT AAAGTG AAGTGT AGTGTT GTGTTC TGTTCC GTTCCT TTCCTG TCCTGG CCTGGG CTGGGT TGGGTA GGGTAG GGTAGA GTAGAG TAGAGA AGAGAT GAGATA AGATAC GATACA ATACAT TACATA ACATAT CATATG ATATGG TATGGA ATGGAG TGGAGT GGAGTC GAGTCA AGTCAG GTCAGA TCAGAC CAGACC AGACCT GACCTT ACCTTT CCTTTG CTTTGT TTTGTT TTGTTT TGTTTA GTTTAA TTTAAA TTAAAG TAAAGC AAAGCA AAGCAA AGCAAT GCAATG CAATGA AATGAC ATGACA TGACAG GACAGA ACAGAA CAGAAG AGAAGA GAAGAT AAGATG AGATGG GATGGA ATGGAT TGGATT GGATTT GATTTT ATTTTT TTTTTG TTTTGG TTTGGC TTGGCT TGGCTG GGCTGT GCTGTA CTGTAT TGTATG GTATGT TATGTT ATGTTC TGTTCA GTTCAG TTCAGA TCAGAA CAGAAG AGAAGC GAAGCT AAGCTA AGCTAA GCTAAA CTAAAG TAAAGG AAAGGT AAGGTC AGGTCT GGTCTT GTCTTG TCTTGT CTTGTT TTGTTA TGTTAC GTTACA TTACAT TACATT ACATTG CATTGA ATTGAA TTGAAG TGAAGC GAAGCA AAGCAC AGCACT GCACTC CACTCC ACTCCG CTCCGC TCCGCG CCGCGA CGCGAC GCGACT CGACTC GACTCC ACTCCC CTCCCT TCCCTT CCCTTT CCTTTT CTTTTT TTTTTA TTTTAA TTTAAA TTAAAA TAAAAG AAAAGT AAAGTG AAGTGG AGTGGA GTGGAG TGGAGC GGAGCC GAGCCT AGCCTT GCCTTT CCTTTT CTTTTC TTTTCT TTTCTT TTCTTC TCTTCC CTTCCT TTCCTG TCCTGG CCTGGA CTGGAC TGGACA GGACAC GACACT ACACTA CACTAT ACTATG CTATGA TATGAA ATGAAG TGAAGT GAAGTT AAGTTT AGTTTT GTTTTG TTTTGG TTTGGA TTGGAT TGGATT GGATTT GATTTA ATTTAA TTTAAA TTAAAG TAAAGC AAAGCC AAGCCA AGCCAA GCCAAA CCAAAT CAAATG AAATGG AATGGC ATGGCA TGGCAA GGCAAA GCAAAG CAAAGT AAAGTT AAGTTG AGTTGC GTTGCA TTGCAT TGCATC GCATCC CATCCG ATCCGT TCCGTG CCGTGG CGTGGA GTGGAA TGGAAA GGAAAT GAAATG AAATGG AATGGT ATGGTT TGGTTA GGTTAA GTTAAA TTAAAT TAAATA AAATAT AATATC ATATCA TATCAT ATCATC TCATCA CATCAC ATCACT TCACTG CACTGT ACTGTC CTGTCG TGTCGG GTCGGG TCGGGA CGGGAT GGGATG GGATGT GATGTA ATGTAC TGTACC GTACCC TACCCC ACCCCT CCCCTG CCCTGC CCTGCA CTGCAC TGCACG GCACGC CACGCC ACGCCC CGCCCT GCCCTC CCCTCT CCTCTA CTCTAT TCTATG CTATGA TATGAC ATGACA TGACAA GACAAT ACAATG CAATGT AATGTG ATGTGG TGTGGA GTGGAG TGGAGA GGAGAA GAGAAA AGAAAC GAAACT AAACTC AACTCT ACTCTT CTCTTT TCTTTC CTTTCC TTTCCA TTCCAG TCCAGG CCAGGT CAGGTT AGGTTT GGTTTT GTTTTG TTTTGA TTTGAG TTGAGA TGAGAT GAGATA AGATAG GATAGA ATAGAA TAGAAA AGAAAC GAAACT AAACTG AACTGT ACTGTG CTGTGA TGTGAA GTGAAG TGAAGA GAAGAA AAGAAC AGAACA GAACAA AACAAC ACAACC CAACCT AACCTC ACCTCA CCTCAG CTCAGG TCAGGA CAGGAT AGGATC GGATCC GATCCT ATCCTT TCCTTT CCTTTT CTTTTT TTTTTA TTTTAA TTTAAT TTAATA TAATAA AATAAT ATAATG TAATGC AATGCT ATGCTG TGCTGT GCTGTA CTGTAA TGTAAA GTAAAG TAAAGA AAAGAA AAGAAA AGAAAC GAAACG AAACGT AACGTT ACGTTT CGTTTG GTTTGA TTTGAT TTGATG TGATGA GATGAC ATGACA TGACAG GACAGA ACAGAC CAGACA AGACAG GACAGA ACAGAA CAGAAG AGAAGG GAAGGA AAGGAT AGGATT GGATTG GATTGG ATTGGC TTGGCT TGGCTG GGCTGC GCTGCC CTGCCT TGCCTT GCCTTT CCTTTT CTTTTA TTTTAT TTTATC TTATCA TATCAG ATCAGG TCAGGG CAGGGG AGGGGG GGGGGC GGGGCT GGGCTT GGCTTG GCTTGG CTTGGA TTGGAC TGGACT GGACTC GACTCC ACTCCA CTCCAG TCCAGC CCAGCT CAGCTT AGCTTG GCTTGG CTTGGT TTGGTT TGGTTG GGTTGC GTTGCT TTGCTG TGCTGC GCTGCC CTGCCA TGCCAC GCCACT CCACTC CACTCT ACTCTG CTCTGT TCTGTT CTGTTG TGTTGA GTTGAA TTGAAG TGAAGC GAAGCA AAGCAG AGCAGC GCAGCT CAGCTG AGCTGA GCTGAA CTGAAA TGAAAG GAAAGA AAAGAA AAGAAG AGAAGC GAAGCC AAGCCC AGCCCA GCCCAA CCCAAG CCAAGT CAAGTA AAGTAC AGTACA GTACAG TACAGT ACAGTA CAGTAT AGTATC GTATCC TATCCT ATCCTC TCCTCT CCTCTC CTCTCC TCTCCA CTCCAG TCCAGA CCAGAC CAGACA AGACAT GACATT ACATTT CATTTG ATTTGC TTTGCA TTGCAA TGCAAT GCAATT CAATTG AATTGG ATTGGC TTGGCA TGGCAT GGCATG GCATGG CATGGA ATGGAA TGGAAG GGAAGA GAAGAC AAGACA AGACAG GACAGC ACAGCC CAGCCC AGCCCC GCCCCG CCCCGA CCCGAT CCGATT CGATTT GATTTA ATTTAC TTTACT TTACTG TACTGG ACTGGC CTGGCT TGGCTG GGCTGC GCTGCT CTGCTA TGCTAG GCTAGA CTAGAA TAGAAA AGAAAG GAAAGG AAAGGT AAGGTG AGGTGG GGTGGC GTGGCA TGGCAG GGCAGA GCAGAT CAGATC AGATCA GATCAT ATCATA TCATAT CATATT ATATTG TATTGG ATTGGA TTGGAA TGGAAG GGAAGT GAAGTG AAGTGA AGTGAA GTGAAC TGAACA GAACAT AACATT ACATTA CATTAT ATTATG TTATGA TATGAA ATGAAG TGAAGT GAAGTC AAGTCC AGTCCT GTCCTT TCCTTT CCTTTT CTTTTT TTTTTA TTTTAA TTTAAC TTAACT TAACTC AACTCT ACTCTG CTCTGA TCTGAG CTGAGG TGAGGA GAGGAA AGGAAG GGAAGG GAAGGC AAGGCA AGGCAT GGCATT GCATTC CATTCA ATTCAG TTCAGG TCAGGC CAGGCT AGGCTC GGCTCT GCTCTG CTCTGG TCTGGA CTGGAT TGGATG GGATGA GATGAA ATGAAG TGAAGT GAAGTC AAGTCA AGTCAT GTCATA TCATAT CATATT ATATTT TATTTT ATTTTC TTTTCC TTTCCT TTCCTT TCCTTG CCTTGG CTTGGA TTGGAA TGGAAA GGAAAC GAAACT AAACTT AACTTA ACTTAT CTTATG TTATGA TATGAC ATGACA TGACAT GACATT ACATTA CATTAC ATTACA TTACAA TACAAC ACAACA CAACAG AACAGT ACAGTT CAGTTC AGTTCG GTTCGT TTCGTG TCGTGC CGTGCT GTGCTT TGCTTC GCTTCA CTTCAG TTCAGT TCAGTA CAGTAG AGTAGG GTAGGT TAGGTA AGGTAT GGTATG GTATGT TATGTA ATGTAT TGTATT GTATTT TATTTA ATTTAA TTTAAT TTAATT TAATTT AATTTC ATTTCC TTTCCA TTCCAA TCCAAG CCAAGT CAAGTA AAGTAT AGTATA GTATAT TATATT ATATTC TATTCG ATTCGG TTCGGA TCGGAA CGGAAG GGAAGA GAAGAA AAGAAC AGAACA GAACAC AACACA ACACAG CACAGA ACAGAT CAGATA AGATAG GATAGC ATAGCG TAGCGT AGCGTG GCGTGG CGTGGT GTGGTG TGGTGA GGTGAT GTGATC TGATCT GATCTT ATCTTC TCTTCT CTTCTC TTCTCT TCTCTG CTCTGG TCTGGA CTGGAG TGGAGA GGAGAA GAGAAG AGAAGG GAAGGA AAGGAT AGGATC GGATCA GATCAG ATCAGA TCAGAT CAGATG AGATGA GATGAA ATGAAC TGAACT GAACTT AACTTA ACTTAC CTTACG TTACGC TACGCA ACGCAG CGCAGG GCAGGG CAGGGT AGGGTT GGGTTA GGTTAC GTTACA TTACAT TACATA ACATAT CATATA ATATAT TATATT ATATTT TATTTT ATTTTC TTTTCA TTTCAC TTCACA TCACAA CACAAG ACAAGG CAAGGC AAGGCT AGGCTC GGCTCC GCTCCT CTCCTT TCCTTC CCTTCT CTTCTC TTCTCC TCTCCT CTCCTG TCCTGA CCTGAA CTGAAA TGAAAA GAAAAA AAAAAG AAAAGC AAAGCC AAGCCG AGCCGA GCCGAG CCGAGG CGAGGA GAGGAG AGGAGG GGAGGA GAGGAG AGGAGA GGAGAG GAGAGT AGAGTG GAGTGA AGTGAG GTGAGA TGAGAG GAGAGG AGAGGC GAGGCT AGGCTT GGCTTC GCTTCT CTTCTG TTCTGA TCTGAG CTGAGG TGAGGG GAGGGA AGGGAA GGGAAC GGAACT GAACTC AACTCT ACTCTA CTCTAT TCTATT CTATTT TATTTG ATTTGT TTTGTT TTGTTT TGTTTG GTTTGA TTTGAT TTGATG TGATGT GATGTT ATGTTC TGTTCT GTTCTC TTCTCC TCTCCG CTCCGC TCCGCG CCGCGC CGCGCA GCGCAG CGCAGA GCAGAT CAGATC AGATCG GATCGA ATCGAA TCGAAC CGAACT GAACTA AACTAC ACTACT CTACTG TACTGC ACTGCT CTGCTG TGCTGC GCTGCC CTGCCC TGCCCA GCCCAT CCCATG CCATGG CATGGT ATGGTC TGGTCT GGTCTT GTCTTG TCTTGA CTTGAA TTGAAC TGAACT GAACTG AACTGA ACTGAG CTGAGA TGAGAG GAGAGT AGAGTC GAGTCC AGTCCC GTCCCA TCCCAT CCCATT CCATTT CATTTC ATTTCT TTTCTA TTCTAG TCTAGA CTAGAT TAGATC AGATCA GATCAT ATCATC TCATCG CATCGA ATCGAT TCGATT CGATTT GATTTT ATTTTC TTTTCT TTTCTT TTCTTC TCTTCC CTTCCT TTCCTA TCCTAT CCTATT CTATTA TATTAC ATTACT TTACTT TACTTG ACTTGT CTTGTC TTGTCT TGTCTC GTCTCT TCTCTG CTCTGC TCTGCC CTGCCA TGCCAC GCCACC CCACCA CACCAG ACCAGA CCAGAA CAGAAA AGAAAT GAAATG AAATGA AATGAG ATGAGA TGAGAA GAGAAT AGAATT GAATTC AATTCC ATTCCA TTCCAA TCCAAA CCAAAG CAAAGA AAAGAA AAGAAT AGAATG GAATGG AATGGG ATGGGA TGGGAT GGGATA GGATAG GATAGA ATAGAA TAGAAA AGAAAA GAAAAA AAAAAC AAAACA AAACAT AACATC ACATCT CATCTC ATCTCC TCTCCT CTCCTG TCCTGA CCTGAG CTGAGA TGAGAG GAGAGA AGAGAG GAGAGA AGAGAC GAGACG AGACGT GACGTT ACGTTT CGTTTG GTTTGA TTTGAG TTGAGG TGAGGA GAGGAT AGGATT GGATTC GATTCC ATTCCA TTCCAA TCCAAT CCAATC CAATCT AATCTG ATCTGA TCTGAT CTGATA TGATAC GATACC ATACCC TACCCA ACCCAA CCCAAA CCAAAG CAAAGA AAAGAG AAGAGA AGAGAT GAGATT AGATTC GATTCT ATTCTC TTCTCT TCTCTG CTCTGG TCTGGC CTGGCG TGGCGA GGCGAC GCGACC CGACCA GACCAA ACCAAA CCAAAA CAAAAG AAAAGA AAAGAA AAGAAG AGAAGC GAAGCC AAGCCT AGCCTT GCCTTC CCTTCA CTTCAG TTCAGT TCAGTG CAGTGA AGTGAT GTGATG TGATGG GATGGA ATGGAA TGGAAT GGAATA GAATAA AATAAC ATAACT TAACTT AACTTC ACTTCA CTTCAG TTCAGT TCAGTT CAGTTA AGTTAA GTTAAG TTAAGA TAAGAA AAGAAT AGAATT GAATTC AATTCC ATTCCT TTCCTG TCCTGG CCTGGT CTGGTT TGGTTT GGTTTA GTTTAA TTTAAG TTAAGA TAAGAT AAGATT AGATTT GATTTT ATTTTA TTTTAC TTTACA TTACAG TACAGG ACAGGA CAGGAA AGGAAT GGAATA GAATAC AATACG ATACGT TACGTT ACGTTG CGTTGA GTTGAA TTGAAC TGAACA GAACAT AACATC ACATCA CATCAG ATCAGG TCAGGT CAGGTT AGGTTG GGTTGA GTTGAT TTGATG TGATGA GATGAT ATGATG TGATGC GATGCA ATGCAA TGCAAT GCAATG CAATGA AATGAT ATGATG TGATGG GATGGC ATGGCA TGGCAA GGCAAA GCAAAT CAAATG AAATGC AATGCA ATGCAG TGCAGC GCAGCC CAGCCC AGCCCA GCCCAG CCCAGA CCAGAA CAGAAA AGAAAT GAAATT AAATTT AATTTC ATTTCC TTTCCC TTCCCT TCCCTT CCCTTC CCTTCA CTTCAA TTCAAT TCAATA CAATAC AATACT ATACTC TACTCC ACTCCT CTCCTA TCCTAA CCTAAA CTAAAA TAAAAC AAAACC AAACCA AACCAA ACCAAA CCAAAG CAAAGA AAAGAA AAGAAG AGAAGG GAAGGA AAGGAT AGGATA GGATAT GATATT ATATTA TATTAC ATTACT TTACTA TACTAC ACTACC CTACCG TACCGT ACCGTC CCGTCA CGTCAA GTCAAG TCAAGT CAAGTC AAGTCT AGTCTT GTCTTT TCTTTG CTTTGA TTTGAA TTGAAC TGAACG GAACGC AACGCC ACGCCA CGCCAT GCCATT CCATTA CATTAC ATTACC TTACCC TACCCA ACCCAG CCCAGG CCAGGC CAGGCC AGGCCG GGCCGG GCCGGG CCGGGC CGGGCT GGGCTG GGCTGA GCTGAC CTGACT TGACTG GACTGG ACTGGC CTGGCT TGGCTG GGCTGA GCTGAG CTGAGC TGAGCC GAGCCA AGCCAT GCCATT CCATTA CATTAC ATTACT TTACTG TACTGG ACTGGA CTGGAT TGGATG GGATGC GATGCC ATGCCC TGCCCA GCCCAA CCCAAG CCAAGT CAAGTG AAGTGG AGTGGA GTGGAT TGGATC GGATCA GATCAA ATCAAT TCAATG CAATGC AATGCC ATGCCA TGCCAC GCCACT CCACTG CACTGA ACTGAC CTGACC TGACCC GACCCT ACCCTT CCCTTC CCTTCT CTTCTG TTCTGC TCTGCC CTGCCC TGCCCG GCCCGC CCCGCA CCGCAC CGCACG GCACGC CACGCT ACGCTG CGCTGA GCTGAC CTGACC TGACCC GACCCA ACCCAC CCCACT CCACTA CACTAC ACTACA CTACAA TACAAG ACAAGT CAAGTC AAGTCA AGTCAG GTCAGC TCAGCT CAGCTG AGCTGT GCTGTC CTGTCA TGTCAA GTCAAA TCAAAG CAAAGC AAAGCT AAGCTT AGCTTA GCTTAG\n",
            "__________________________________________________________________________________________________\n",
            "3\n"
          ]
        }
      ]
    },
    {
      "cell_type": "code",
      "source": [
        "chimp_texts = list(chimp_data['words'])\n",
        "for i in range(len(chimp_texts)):\n",
        "    chimp_texts[i] = ''.join(chimp_texts[i])\n",
        "\n",
        "y_chimp = chimp_data.iloc[:, 0].values"
      ],
      "metadata": {
        "id": "k2u8PqVhdoeG"
      },
      "execution_count": 25,
      "outputs": []
    },
    {
      "cell_type": "code",
      "source": [
        "dog_texts = list(dog_data['words'])\n",
        "for i in range(len(dog_texts)):\n",
        "    dog_texts[i] = ''.join(dog_texts[i])\n",
        "\n",
        "y_dog = dog_data.iloc[:, 0].values"
      ],
      "metadata": {
        "id": "7CVhdtMneJ1B"
      },
      "execution_count": 26,
      "outputs": []
    },
    {
      "cell_type": "code",
      "source": [
        "\n",
        "# creating the Bag of Words model using CountVectorizer()\n",
        "# this is equivalant to k-mers counting\n",
        "# the n-gram size of 4 was previously determined by testing\n",
        "from sklearn.feature_extraction.text import CountVectorizer\n",
        "cv = CountVectorizer(ngram_range=(4,4))\n",
        "x= cv.fit_transform(human_texts)\n",
        "x_chimp = cv.transform(chimp_texts)\n",
        "x_dog =cv.transform(dog_texts)"
      ],
      "metadata": {
        "id": "iS2pHVlbeJ4Z"
      },
      "execution_count": 27,
      "outputs": []
    },
    {
      "cell_type": "code",
      "source": [
        "from scipy.sparse import csr_matrix\n",
        "\n",
        "# Assuming you have already created x_chimp and x_dog as sparse matrices\n",
        "# Print the type of x_chimp\n",
        "print(type(x_chimp))  # This will print \"<class 'scipy.sparse.csr.csr_matrix'>\"\n",
        "print(\"x_human shape:\", x.shape)\n",
        "# Print the shape of x_chimp and x_dog\n",
        "print(\"x_chimp shape:\", x_chimp.shape)\n",
        "print(\"x_dog shape:\", x_dog.shape)\n"
      ],
      "metadata": {
        "colab": {
          "base_uri": "https://localhost:8080/"
        },
        "id": "nFquiqZEh1ai",
        "outputId": "c9849d6d-f59e-4a72-a83c-5b719d600347"
      },
      "execution_count": 30,
      "outputs": [
        {
          "output_type": "stream",
          "name": "stdout",
          "text": [
            "<class 'scipy.sparse._csr.csr_matrix'>\n",
            "x_human shape: (4380, 232414)\n",
            "x_chimp shape: (1682, 232414)\n",
            "x_dog shape: (820, 232414)\n"
          ]
        }
      ]
    },
    {
      "cell_type": "code",
      "source": [
        "human_data['class'].value_counts().sort_index().plot.bar()"
      ],
      "metadata": {
        "colab": {
          "base_uri": "https://localhost:8080/",
          "height": 445
        },
        "id": "ovyazsn4jJnG",
        "outputId": "d1130087-c222-4f6d-9d0a-3776e5a7b71b"
      },
      "execution_count": 31,
      "outputs": [
        {
          "output_type": "execute_result",
          "data": {
            "text/plain": [
              "<Axes: >"
            ]
          },
          "metadata": {},
          "execution_count": 31
        },
        {
          "output_type": "display_data",
          "data": {
            "text/plain": [
              "<Figure size 640x480 with 1 Axes>"
            ],
            "image/png": "[encoded data removed]"
          },
          "metadata": {}
        }
      ]
    },
    {
      "cell_type": "code",
      "source": [
        "chimp_data['class'].value_counts().sort_index().plot.bar()"
      ],
      "metadata": {
        "colab": {
          "base_uri": "https://localhost:8080/",
          "height": 442
        },
        "id": "ATEzHWCpjm0i",
        "outputId": "7e87feb7-976b-4121-de6a-6224a7532c0d"
      },
      "execution_count": 32,
      "outputs": [
        {
          "output_type": "execute_result",
          "data": {
            "text/plain": [
              "<Axes: >"
            ]
          },
          "metadata": {},
          "execution_count": 32
        },
        {
          "output_type": "display_data",
          "data": {
            "text/plain": [
              "<Figure size 640x480 with 1 Axes>"
            ],
            "image/png": "[encoded data removed]"
          },
          "metadata": {}
        }
      ]
    },
    {
      "cell_type": "code",
      "source": [
        "dog_data['class'].value_counts().sort_index().plot.bar()"
      ],
      "metadata": {
        "colab": {
          "base_uri": "https://localhost:8080/",
          "height": 442
        },
        "id": "QbGw9swfjm3_",
        "outputId": "3f21ba80-176c-4688-ebee-e65d585e8fcd"
      },
      "execution_count": 33,
      "outputs": [
        {
          "output_type": "execute_result",
          "data": {
            "text/plain": [
              "<Axes: >"
            ]
          },
          "metadata": {},
          "execution_count": 33
        },
        {
          "output_type": "display_data",
          "data": {
            "text/plain": [
              "<Figure size 640x480 with 1 Axes>"
            ],
            "image/png": "[encoded data removed]"
          },
          "metadata": {}
        }
      ]
    },
    {
      "cell_type": "code",
      "source": [
        "from sklearn.model_selection import train_test_split\n",
        "x_train, x_test , y_train , y_test =train_test_split(x, y_data, test_size=0.2 , random_state=42)"
      ],
      "metadata": {
        "id": "yTTaZ8ZHjxwI"
      },
      "execution_count": 34,
      "outputs": []
    },
    {
      "cell_type": "code",
      "source": [
        "print(\"x_train:\" , x_train.shape)\n",
        "print(\"x_test:\" , x_test.shape)"
      ],
      "metadata": {
        "colab": {
          "base_uri": "https://localhost:8080/"
        },
        "id": "0z5BD_pSkect",
        "outputId": "e36707fc-e5cb-416d-db46-c80201430bb8"
      },
      "execution_count": 37,
      "outputs": [
        {
          "output_type": "stream",
          "name": "stdout",
          "text": [
            "x_train: (3504, 232414)\n",
            "x_test: (876, 232414)\n"
          ]
        }
      ]
    },
    {
      "cell_type": "code",
      "source": [
        "# using naive base as common classifyng algorithum in NLP\n",
        "# multinominal naive base\n",
        "# the alpha parameter was determined by grid search previously\n",
        "from sklearn.naive_bayes import MultinomialNB\n",
        "classifier = MultinomialNB(alpha=0.1)\n",
        "classifier.fit(x_train, y_train)\n"
      ],
      "metadata": {
        "colab": {
          "base_uri": "https://localhost:8080/",
          "height": 75
        },
        "id": "YgMk2bLIlBBx",
        "outputId": "6137856b-204e-474b-ea64-8d28b77673d3"
      },
      "execution_count": 38,
      "outputs": [
        {
          "output_type": "execute_result",
          "data": {
            "text/plain": [
              "MultinomialNB(alpha=0.1)"
            ],
            "text/html": [
              "<style>#sk-container-id-1 {color: black;background-color: white;}#sk-container-id-1 pre{padding: 0;}#sk-container-id-1 div.sk-toggleable {background-color: white;}#sk-container-id-1 label.sk-toggleable__label {cursor: pointer;display: block;width: 100%;margin-bottom: 0;padding: 0.3em;box-sizing: border-box;text-align: center;}#sk-container-id-1 label.sk-toggleable__label-arrow:before {content: \"▸\";float: left;margin-right: 0.25em;color: #696969;}#sk-container-id-1 label.sk-toggleable__label-arrow:hover:before {color: black;}#sk-container-id-1 div.sk-estimator:hover label.sk-toggleable__label-arrow:before {color: black;}#sk-container-id-1 div.sk-toggleable__content {max-height: 0;max-width: 0;overflow: hidden;text-align: left;background-color: #f0f8ff;}#sk-container-id-1 div.sk-toggleable__content pre {margin: 0.2em;color: black;border-radius: 0.25em;background-color: #f0f8ff;}#sk-container-id-1 input.sk-toggleable__control:checked~div.sk-toggleable__content {max-height: 200px;max-width: 100%;overflow: auto;}#sk-container-id-1 input.sk-toggleable__control:checked~label.sk-toggleable__label-arrow:before {content: \"▾\";}#sk-container-id-1 div.sk-estimator input.sk-toggleable__control:checked~label.sk-toggleable__label {background-color: #d4ebff;}#sk-container-id-1 div.sk-label input.sk-toggleable__control:checked~label.sk-toggleable__label {background-color: #d4ebff;}#sk-container-id-1 input.sk-hidden--visually {border: 0;clip: rect(1px 1px 1px 1px);clip: rect(1px, 1px, 1px, 1px);height: 1px;margin: -1px;overflow: hidden;padding: 0;position: absolute;width: 1px;}#sk-container-id-1 div.sk-estimator {font-family: monospace;background-color: #f0f8ff;border: 1px dotted black;border-radius: 0.25em;box-sizing: border-box;margin-bottom: 0.5em;}#sk-container-id-1 div.sk-estimator:hover {background-color: #d4ebff;}#sk-container-id-1 div.sk-parallel-item::after {content: \"\";width: 100%;border-bottom: 1px solid gray;flex-grow: 1;}#sk-container-id-1 div.sk-label:hover label.sk-toggleable__label {background-color: #d4ebff;}#sk-container-id-1 div.sk-serial::before {content: \"\";position: absolute;border-left: 1px solid gray;box-sizing: border-box;top: 0;bottom: 0;left: 50%;z-index: 0;}#sk-container-id-1 div.sk-serial {display: flex;flex-direction: column;align-items: center;background-color: white;padding-right: 0.2em;padding-left: 0.2em;position: relative;}#sk-container-id-1 div.sk-item {position: relative;z-index: 1;}#sk-container-id-1 div.sk-parallel {display: flex;align-items: stretch;justify-content: center;background-color: white;position: relative;}#sk-container-id-1 div.sk-item::before, #sk-container-id-1 div.sk-parallel-item::before {content: \"\";position: absolute;border-left: 1px solid gray;box-sizing: border-box;top: 0;bottom: 0;left: 50%;z-index: -1;}#sk-container-id-1 div.sk-parallel-item {display: flex;flex-direction: column;z-index: 1;position: relative;background-color: white;}#sk-container-id-1 div.sk-parallel-item:first-child::after {align-self: flex-end;width: 50%;}#sk-container-id-1 div.sk-parallel-item:last-child::after {align-self: flex-start;width: 50%;}#sk-container-id-1 div.sk-parallel-item:only-child::after {width: 0;}#sk-container-id-1 div.sk-dashed-wrapped {border: 1px dashed gray;margin: 0 0.4em 0.5em 0.4em;box-sizing: border-box;padding-bottom: 0.4em;background-color: white;}#sk-container-id-1 div.sk-label label {font-family: monospace;font-weight: bold;display: inline-block;line-height: 1.2em;}#sk-container-id-1 div.sk-label-container {text-align: center;}#sk-container-id-1 div.sk-container {/* jupyter's `normalize.less` sets `[hidden] { display: none; }` but bootstrap.min.css set `[hidden] { display: none !important; }` so we also need the `!important` here to be able to override the default hidden behavior on the sphinx rendered scikit-learn.org. See: https://github.com/scikit-learn/scikit-learn/issues/21755 */display: inline-block !important;position: relative;}#sk-container-id-1 div.sk-text-repr-fallback {display: none;}</style><div id=\"sk-container-id-1\" class=\"sk-top-container\"><div class=\"sk-text-repr-fallback\"><pre>MultinomialNB(alpha=0.1)</pre><b>In a Jupyter environment, please rerun this cell to show the HTML representation or trust the notebook. <br />On GitHub, the HTML representation is unable to render, please try loading this page with nbviewer.org.</b></div><div class=\"sk-container\" hidden><div class=\"sk-item\"><div class=\"sk-estimator sk-toggleable\"><input class=\"sk-toggleable__control sk-hidden--visually\" id=\"sk-estimator-id-1\" type=\"checkbox\" checked><label for=\"sk-estimator-id-1\" class=\"sk-toggleable__label sk-toggleable__label-arrow\">MultinomialNB</label><div class=\"sk-toggleable__content\"><pre>MultinomialNB(alpha=0.1)</pre></div></div></div></div></div>"
            ]
          },
          "metadata": {},
          "execution_count": 38
        }
      ]
    },
    {
      "cell_type": "code",
      "source": [
        "y_pred = classifier.predict(x_test)"
      ],
      "metadata": {
        "id": "QwjzTYzAmJlf"
      },
      "execution_count": 39,
      "outputs": []
    },
    {
      "cell_type": "code",
      "source": [
        "from sklearn.metrics import accuracy_score, f1_score, precision_score, recall_score\n",
        "# Print the confusion matrix\n",
        "print(\"confusion matrix\\n\")\n",
        "print(pd.crosstab(pd.Series(y_test , name='Actual'), pd.Series(y_pred , name='Predicted')))\n",
        "\n",
        "\n",
        "# Define a function to calculate metrics\n",
        "def get_metrics(y_test, y_predicted):\n",
        "  accuracy = accuracy_score(y_test, y_predicted)\n",
        "  precision = precision_score(y_test, y_predicted , average='weighted')\n",
        "  recall = recall_score(y_test, y_predicted , average='weighted')\n",
        "  f1 = f1_score(y_test, y_predicted , average='weighted')\n",
        "  return accuracy, precision, recall, f1\n",
        "\n",
        "# Call the get_metrics function to calculate the metrics\n",
        "accuracy, precision, recall, f1 = get_metrics(y_test, y_pred)\n",
        "\n",
        "# Print the metrics\n",
        "print(\"\\nMetrics:\")\n",
        "print(f\"Accuracy: {accuracy:.3f}\")\n",
        "print(f\"Precision: {precision:.3f}\")\n",
        "print(f\"Recall: {recall:.3f}\")\n",
        "print(f\"F1 Score: {f1:.3f}\")"
      ],
      "metadata": {
        "colab": {
          "base_uri": "https://localhost:8080/"
        },
        "id": "vRFkPKtUqnjp",
        "outputId": "8f843367-9fe5-44b1-cb58-f125ea6a1f51"
      },
      "execution_count": 43,
      "outputs": [
        {
          "output_type": "stream",
          "name": "stdout",
          "text": [
            "confusion matrix\n",
            "\n",
            "Predicted   0    1   2    3    4   5    6\n",
            "Actual                                   \n",
            "0          99    0   0    0    1   0    2\n",
            "1           0  104   0    0    0   0    2\n",
            "2           0    0  78    0    0   0    0\n",
            "3           0    0   0  124    0   0    1\n",
            "4           1    0   0    0  143   0    5\n",
            "5           0    0   0    0    0  51    0\n",
            "6           1    0   0    1    0   0  263\n",
            "\n",
            "Metrics:\n",
            "Accuracy: 0.984\n",
            "Precision: 0.984\n",
            "Recall: 0.984\n",
            "F1 Score: 0.984\n"
          ]
        }
      ]
    },
    {
      "cell_type": "markdown",
      "source": [
        "DNA sequencing is a fundamental task in bioinformatics, and Python is commonly used for analyzing DNA sequences.\n",
        "\n",
        "\n",
        "In this example, we:\n",
        "\n",
        "Calculate the length of the DNA sequence.\n",
        "\n",
        "Count the occurrences of a specific base (in this case, 'A').\n",
        "\n",
        "Find the reverse complement of the DNA sequence.\n",
        "\n",
        "Transcribe the DNA sequence into RNA by replacing 'T' with 'U'.\n",
        "\n",
        "Translate the RNA sequence into a protein (amino acid sequence) using a simple codon table."
      ],
      "metadata": {
        "id": "aV3ruxkvs0wt"
      }
    },
    {
      "cell_type": "code",
      "source": [
        "# Example DNA sequence\n",
        "dna_sequence = \"ATCGATCGTACGATCGTAGCTAGCTAGCTAGCTAGCTAGCTAGCTAGCTAGCTAGCTAGCTAGC\"\n",
        "\n",
        "# Calculate the length of the DNA sequence\n",
        "sequence_length = len(dna_sequence)\n",
        "print(\"Sequence Length:\", sequence_length)\n",
        "\n",
        "# Count the occurrences of a specific base (e.g., 'A')\n",
        "base_to_count = 'A'\n",
        "base_count = dna_sequence.count(base_to_count)\n",
        "print(f\"Count of {base_to_count}: {base_count}\")\n",
        "\n",
        "# Find the reverse complement of the DNA sequence\n",
        "complement_dict = {'A': 'T', 'T': 'A', 'C': 'G', 'G': 'C'}\n",
        "reverse_complement = ''.join([complement_dict[base] for base in dna_sequence[::-1]])\n",
        "print(\"Reverse Complement:\", reverse_complement)\n",
        "\n",
        "# Transcribe DNA to RNA\n",
        "rna_sequence = dna_sequence.replace('T', 'U')\n",
        "print(\"RNA Sequence:\", rna_sequence)\n",
        "\n",
        "# Translate RNA to protein (amino acid sequence)\n",
        "def translate_rna_to_protein(rna_sequence):\n",
        "    codon_table = {\n",
        "        \"UUU\": \"F\", \"UUC\": \"F\", \"UUA\": \"L\", \"UUG\": \"L\",\n",
        "        \"CUU\": \"L\", \"CUC\": \"L\", \"CUA\": \"L\", \"CUG\": \"L\",\n",
        "        \"AUU\": \"I\", \"AUC\": \"I\", \"AUA\": \"I\", \"AUG\": \"M\",\n",
        "        \"GUU\": \"V\", \"GUC\": \"V\", \"GUA\": \"V\", \"GUG\": \"V\",\n",
        "        \"UCU\": \"S\", \"UCC\": \"S\", \"UCA\": \"S\", \"UCG\": \"S\",\n",
        "        # ... (complete codon table)\n",
        "    }\n",
        "    protein_sequence = ''\n",
        "    for i in range(0, len(rna_sequence), 3):\n",
        "        codon = rna_sequence[i:i+3]\n",
        "        amino_acid = codon_table.get(codon, 'X')  # 'X' for unknown codons\n",
        "        protein_sequence += amino_acid\n",
        "    return protein_sequence\n",
        "\n",
        "protein_sequence = translate_rna_to_protein(rna_sequence)\n",
        "print(\"Protein Sequence:\", protein_sequence)\n"
      ],
      "metadata": {
        "colab": {
          "base_uri": "https://localhost:8080/"
        },
        "id": "6zI8E1ADjm6f",
        "outputId": "4f9853ae-30c5-4ee9-ac03-b4dd5c6a96ba"
      },
      "execution_count": 44,
      "outputs": [
        {
          "output_type": "stream",
          "name": "stdout",
          "text": [
            "Sequence Length: 64\n",
            "Count of A: 16\n",
            "Reverse Complement: GCTAGCTAGCTAGCTAGCTAGCTAGCTAGCTAGCTAGCTAGCTAGCTACGATCGTACGATCGAT\n",
            "RNA Sequence: AUCGAUCGUACGAUCGUAGCUAGCUAGCUAGCUAGCUAGCUAGCUAGCUAGCUAGCUAGCUAGC\n",
            "Protein Sequence: IXXXIVXXXLXXXLXXXLXXXX\n"
          ]
        }
      ]
    }
  ]
}