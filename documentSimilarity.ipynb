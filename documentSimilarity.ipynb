{
  "nbformat": 4,
  "nbformat_minor": 0,
  "metadata": {
    "colab": {
      "provenance": []
    },
    "kernelspec": {
      "name": "python3",
      "display_name": "Python 3"
    },
    "language_info": {
      "name": "python"
    }
  },
  "cells": [
    {
      "cell_type": "code",
      "source": [
        "import nltk\n",
        "from nltk.corpus import stopwords\n",
        "from sklearn.feature_extraction.text import TfidfVectorizer\n",
        "from sklearn.metrics.pairwise import cosine_similarity\n",
        "\n",
        "# Sample corpus with four documents\n",
        "corpus = [\n",
        "    \"The quick brown fox jumps over the lazy dog.\",\n",
        "    \"A brown fox is quick and jumps over a lazy dog.\",\n",
        "    \"The dog is sleeping peacefully.\",\n",
        "    \"A brown dog is jumping over a lazy fox.\"\n",
        "]\n",
        "\n",
        "# Tokenize and remove stopwords\n",
        "nltk.download('punkt')\n",
        "nltk.download('stopwords')\n",
        "stop_words = set(stopwords.words('english'))\n",
        "\n",
        "def preprocess_text(text):\n",
        "    words = nltk.word_tokenize(text)\n",
        "    words = [word.lower() for word in words if word.isalnum() and word not in stop_words]\n",
        "    return \" \".join(words)\n",
        "\n",
        "corpus = [preprocess_text(doc) for doc in corpus]\n",
        "\n",
        "# Create TF-IDF vectorizer\n",
        "tfidf_vectorizer = TfidfVectorizer()\n",
        "\n",
        "# Fit and transform the corpus\n",
        "tfidf_matrix = tfidf_vectorizer.fit_transform(corpus)\n",
        "\n",
        "# Calculate cosine similarity between sentences\n",
        "similarity_matrix = cosine_similarity(tfidf_matrix, tfidf_matrix)\n",
        "\n",
        "# Print the similarity matrix\n",
        "for i in range(len(corpus)):\n",
        "    for j in range(len(corpus)):\n",
        "        print(f\"Similarity between Document {i + 1} and Document {j + 1}: {similarity_matrix[i][j]:.4f}\")\n"
      ],
      "metadata": {
        "colab": {
          "base_uri": "https://localhost:8080/"
        },
        "id": "F--cqWUuimfS",
        "outputId": "fc20b2f2-d874-47f6-f429-e338e642969a"
      },
      "execution_count": 1,
      "outputs": [
        {
          "output_type": "stream",
          "name": "stderr",
          "text": [
            "[nltk_data] Downloading package punkt to /root/nltk_data...\n",
            "[nltk_data]   Unzipping tokenizers/punkt.zip.\n"
          ]
        },
        {
          "output_type": "stream",
          "name": "stdout",
          "text": [
            "Similarity between Document 1 and Document 1: 1.0000\n",
            "Similarity between Document 1 and Document 2: 0.9028\n",
            "Similarity between Document 1 and Document 3: 0.2867\n",
            "Similarity between Document 1 and Document 4: 0.5163\n",
            "Similarity between Document 2 and Document 1: 0.9028\n",
            "Similarity between Document 2 and Document 2: 1.0000\n",
            "Similarity between Document 2 and Document 3: 0.0967\n",
            "Similarity between Document 2 and Document 4: 0.5719\n",
            "Similarity between Document 3 and Document 1: 0.2867\n",
            "Similarity between Document 3 and Document 2: 0.0967\n",
            "Similarity between Document 3 and Document 3: 1.0000\n",
            "Similarity between Document 3 and Document 4: 0.1014\n",
            "Similarity between Document 4 and Document 1: 0.5163\n",
            "Similarity between Document 4 and Document 2: 0.5719\n",
            "Similarity between Document 4 and Document 3: 0.1014\n",
            "Similarity between Document 4 and Document 4: 1.0000\n"
          ]
        },
        {
          "output_type": "stream",
          "name": "stderr",
          "text": [
            "[nltk_data] Downloading package stopwords to /root/nltk_data...\n",
            "[nltk_data]   Unzipping corpora/stopwords.zip.\n"
          ]
        }
      ]
    },
    {
      "cell_type": "code",
      "source": [
        "import nltk\n",
        "from nltk.corpus import stopwords\n",
        "from sklearn.feature_extraction.text import TfidfVectorizer\n",
        "from sklearn.metrics.pairwise import cosine_similarity\n",
        "import matplotlib.pyplot as plt\n",
        "\n",
        "# Sample corpus with four documents\n",
        "corpus = [\n",
        "    \"The quick brown fox jumps over the lazy dog.\",\n",
        "    \"A brown fox is quick and jumps over a lazy dog.\",\n",
        "    \"The dog is sleeping peacefully.\",\n",
        "    \"A brown dog is jumping over a lazy fox.\"\n",
        "]\n",
        "\n",
        "# Tokenize and remove stopwords\n",
        "nltk.download('punkt')\n",
        "nltk.download('stopwords')\n",
        "stop_words = set(stopwords.words('english'))\n",
        "\n",
        "def preprocess_text(text):\n",
        "    words = nltk.word_tokenize(text)\n",
        "    words = [word.lower() for word in words if word.isalnum() and word not in stop_words]\n",
        "    return \" \".join(words)\n",
        "\n",
        "corpus = [preprocess_text(doc) for doc in corpus]\n",
        "\n",
        "# Create TF-IDF vectorizer\n",
        "tfidf_vectorizer = TfidfVectorizer()\n",
        "\n",
        "# Fit and transform the corpus\n",
        "tfidf_matrix = tfidf_vectorizer.fit_transform(corpus)\n",
        "\n",
        "# Calculate cosine similarity between sentences\n",
        "similarity_matrix = cosine_similarity(tfidf_matrix, tfidf_matrix)\n",
        "\n",
        "# Visualize the similarity matrix as a heatmap\n",
        "plt.figure(figsize=(8, 6))\n",
        "plt.imshow(similarity_matrix, cmap='viridis', interpolation='nearest')\n",
        "plt.colorbar()\n",
        "plt.title(\"Similarity Matrix\")\n",
        "plt.xlabel(\"Documents/Sentences\")\n",
        "plt.ylabel(\"Documents/Sentences\")\n",
        "plt.xticks(range(len(corpus)), [f\"Doc {i+1}\" for i in range(len(corpus))], rotation=45)\n",
        "plt.yticks(range(len(corpus)), [f\"Doc {i+1}\" for i in range(len(corpus))])\n",
        "plt.show()\n"
      ],
      "metadata": {
        "colab": {
          "base_uri": "https://localhost:8080/",
          "height": 657
        },
        "id": "1pYR2imOjFD9",
        "outputId": "f14394ee-b276-436a-fa8c-177f76287ed1"
      },
      "execution_count": 2,
      "outputs": [
        {
          "output_type": "stream",
          "name": "stderr",
          "text": [
            "[nltk_data] Downloading package punkt to /root/nltk_data...\n",
            "[nltk_data]   Package punkt is already up-to-date!\n",
            "[nltk_data] Downloading package stopwords to /root/nltk_data...\n",
            "[nltk_data]   Package stopwords is already up-to-date!\n"
          ]
        },
        {
          "output_type": "display_data",
          "data": {
            "text/plain": [
              "<Figure size 800x600 with 2 Axes>"
            ],
            "image/png": "[encoded data removed]"
          },
          "metadata": {}
        }
      ]
    }
  ]
}